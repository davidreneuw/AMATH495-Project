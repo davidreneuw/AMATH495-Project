{
 "cells": [
  {
   "cell_type": "markdown",
   "metadata": {
    "application/vnd.databricks.v1+cell": {
     "cellMetadata": {
      "byteLimit": 2048000,
      "rowLimit": 10000
     },
     "inputWidgets": {},
     "nuid": "61882dda-29b6-4cac-987c-89823e9dfc47",
     "showTitle": false,
     "title": ""
    }
   },
   "source": [
    "# Anomaly and warming stripes\n",
    "Let us begin by finding the typical temperature between 2030 and 2060."
   ]
  },
  {
   "cell_type": "code",
   "execution_count": 0,
   "metadata": {
    "application/vnd.databricks.v1+cell": {
     "cellMetadata": {
      "byteLimit": 2048000,
      "implicitDf": true,
      "rowLimit": 10000
     },
     "inputWidgets": {},
     "nuid": "dac276e3-427e-4615-8fbf-8b0bead90bcf",
     "showTitle": false,
     "title": ""
    }
   },
   "outputs": [
    {
     "output_type": "display_data",
     "data": {
      "text/html": [
       "<style scoped>\n  .table-result-container {\n    max-height: 300px;\n    overflow: auto;\n  }\n  table, th, td {\n    border: 1px solid black;\n    border-collapse: collapse;\n  }\n  th, td {\n    padding: 5px;\n  }\n  th {\n    text-align: left;\n  }\n</style><div class='table-result-container'><table class='table-result'><thead style='background-color: white'><tr><th>typical_sst</th></tr></thead><tbody><tr><td>20.84838530386781</td></tr></tbody></table></div>"
      ]
     },
     "metadata": {
      "application/vnd.databricks.v1+output": {
       "addedWidgets": {},
       "aggData": [],
       "aggError": "",
       "aggOverflow": false,
       "aggSchema": [],
       "aggSeriesLimitReached": false,
       "aggType": "",
       "arguments": {},
       "columnCustomDisplayInfos": {},
       "data": [
        [
         20.84838530386781
        ]
       ],
       "datasetInfos": [],
       "dbfsResultPath": null,
       "isJsonSchema": true,
       "metadata": {},
       "overflow": false,
       "plotOptions": {
        "customPlotOptions": {},
        "displayType": "table",
        "pivotAggregation": null,
        "pivotColumns": null,
        "xColumns": null,
        "yColumns": null
       },
       "removedWidgets": [],
       "schema": [
        {
         "metadata": "{}",
         "name": "typical_sst",
         "type": "\"double\""
        }
       ],
       "type": "table"
      }
     },
     "output_type": "display_data"
    }
   ],
   "source": [
    "\n",
    "%sql\n",
    "SELECT AVG(prediction) AS typical_sst\n",
    "FROM long_prediction\n",
    "WHERE YEAR(date) BETWEEN YEAR(DATE(\"2029-01-01\")) AND YEAR(DATE(\"2061-01-01\"))"
   ]
  },
  {
   "cell_type": "markdown",
   "metadata": {
    "application/vnd.databricks.v1+cell": {
     "cellMetadata": {
      "byteLimit": 2048000,
      "rowLimit": 10000
     },
     "inputWidgets": {},
     "nuid": "d0aaa029-f40a-4bf3-8299-18425ff1c783",
     "showTitle": false,
     "title": ""
    }
   },
   "source": [
    "As we can see from the previous cell, the typical temperature between years 2030 and 2060 is 20.8 Celsius. From which, we can then find the anomalies:"
   ]
  },
  {
   "cell_type": "code",
   "execution_count": 0,
   "metadata": {
    "application/vnd.databricks.v1+cell": {
     "cellMetadata": {
      "byteLimit": 2048000,
      "implicitDf": true,
      "rowLimit": 10000
     },
     "inputWidgets": {},
     "nuid": "cc85307d-cc1c-4c7e-9070-6c23105a9eb0",
     "showTitle": false,
     "title": ""
    }
   },
   "outputs": [
    {
     "output_type": "display_data",
     "data": {
      "text/html": [
       "<style scoped>\n  .table-result-container {\n    max-height: 300px;\n    overflow: auto;\n  }\n  table, th, td {\n    border: 1px solid black;\n    border-collapse: collapse;\n  }\n  th, td {\n    padding: 5px;\n  }\n  th {\n    text-align: left;\n  }\n</style><div class='table-result-container'><table class='table-result'><thead style='background-color: white'><tr><th>year</th><th>avg_global_sst</th></tr></thead><tbody><tr><td>2017</td><td>-0.931108090202212</td></tr><tr><td>2018</td><td>-1.2800334222436582</td></tr><tr><td>2019</td><td>-1.2599444867628549</td></tr><tr><td>2020</td><td>-1.1844579505175794</td></tr><tr><td>2021</td><td>-1.1649662745065719</td></tr><tr><td>2022</td><td>-1.0887608780462763</td></tr><tr><td>2023</td><td>-1.0681783871467871</td></tr><tr><td>2024</td><td>-0.9928499038501002</td></tr><tr><td>2025</td><td>-0.9731870281129673</td></tr><tr><td>2026</td><td>-0.897287897508523</td></tr><tr><td>2027</td><td>-0.8766601447702875</td></tr><tr><td>2028</td><td>-0.8013225201693395</td></tr><tr><td>2029</td><td>-0.7807772006454954</td></tr><tr><td>2030</td><td>-0.7063278558344095</td></tr><tr><td>2031</td><td>-0.6851156164478134</td></tr><tr><td>2032</td><td>-0.6367320342357203</td></tr><tr><td>2033</td><td>-0.5606680601109097</td></tr><tr><td>2034</td><td>-0.5417405650384701</td></tr><tr><td>2035</td><td>-0.46510620218681353</td></tr><tr><td>2036</td><td>-0.44521346038668597</td></tr><tr><td>2037</td><td>-0.3691410684008751</td></tr><tr><td>2038</td><td>-0.3493302343379945</td></tr><tr><td>2039</td><td>-0.27414668406148124</td></tr><tr><td>2040</td><td>-0.2536683609205568</td></tr><tr><td>2041</td><td>-0.17769557899918453</td></tr><tr><td>2042</td><td>-0.1574060598022342</td></tr><tr><td>2043</td><td>-0.08212003360003806</td></tr><tr><td>2044</td><td>-0.062427934584430744</td></tr><tr><td>2045</td><td>0.013577131602698245</td></tr><tr><td>2046</td><td>0.0343598555506226</td></tr><tr><td>2047</td><td>0.10948820103243406</td></tr><tr><td>2048</td><td>0.12935112218058364</td></tr><tr><td>2049</td><td>0.20505028780215895</td></tr><tr><td>2050</td><td>0.2258779335608807</td></tr><tr><td>2051</td><td>0.3010157128284021</td></tr><tr><td>2052</td><td>0.3217608422867464</td></tr><tr><td>2053</td><td>0.3690184564755121</td></tr><tr><td>2054</td><td>0.44575891656753086</td></tr><tr><td>2055</td><td>0.4658064184751147</td></tr><tr><td>2056</td><td>0.541669782874834</td></tr><tr><td>2057</td><td>0.5607979432205958</td></tr><tr><td>2058</td><td>0.6372316003402005</td></tr><tr><td>2059</td><td>0.6573250469976983</td></tr><tr><td>2060</td><td>0.733196750093775</td></tr><tr><td>2061</td><td>0.7532082278260965</td></tr><tr><td>2062</td><td>0.8281911926350389</td></tr><tr><td>2063</td><td>0.8488700247051746</td></tr><tr><td>2064</td><td>0.924642382917547</td></tr><tr><td>2065</td><td>0.9451322318585085</td></tr><tr><td>2066</td><td>1.020218024418476</td></tr><tr><td>2067</td><td>1.0401102603452728</td></tr><tr><td>2068</td><td>1.1159152796577416</td></tr><tr><td>2069</td><td>1.1368979663105492</td></tr><tr><td>2070</td><td>1.2118264154212923</td></tr><tr><td>2071</td><td>1.2318891772178517</td></tr><tr><td>2072</td><td>1.2803163776162165</td></tr><tr><td>2073</td><td>1.3568242266567196</td></tr><tr><td>2074</td><td>1.3765786949330305</td></tr><tr><td>2075</td><td>1.4523997197401677</td></tr><tr><td>2076</td><td>1.471556944728853</td></tr><tr><td>2077</td><td>1.5480967314261846</td></tr><tr><td>2078</td><td>1.5683449326180963</td></tr><tr><td>2079</td><td>1.6440075871942703</td></tr><tr><td>2080</td><td>1.6633364327451154</td></tr><tr><td>2081</td><td>1.739569443584621</td></tr><tr><td>2082</td><td>1.759863473958287</td></tr><tr><td>2083</td><td>1.8355346670113413</td></tr><tr><td>2084</td><td>1.8557465677482519</td></tr><tr><td>2085</td><td>1.930529202284017</td></tr><tr><td>2086</td><td>1.9514082674025772</td></tr><tr><td>2087</td><td>2.026980487800081</td></tr><tr><td>2088</td><td>2.047670382152056</td></tr><tr><td>2089</td><td>2.122556209729165</td></tr><tr><td>2090</td><td>2.1426483386764303</td></tr><tr><td>2091</td><td>2.2182535126554725</td></tr><tr><td>2092</td><td>2.2394360092428194</td></tr><tr><td>2093</td><td>2.2871929588081805</td></tr><tr><td>2094</td><td>2.362710987248846</td></tr><tr><td>2095</td><td>2.3828548303270622</td></tr><tr><td>2096</td><td>2.4591620696424705</td></tr><tr><td>2097</td><td>2.4791172031920823</td></tr><tr><td>2098</td><td>2.554737522267189</td></tr><tr><td>2099</td><td>2.5740954521132444</td></tr></tbody></table></div>"
      ]
     },
     "metadata": {
      "application/vnd.databricks.v1+output": {
       "addedWidgets": {},
       "aggData": [],
       "aggError": "",
       "aggOverflow": false,
       "aggSchema": [],
       "aggSeriesLimitReached": false,
       "aggType": "",
       "arguments": {},
       "columnCustomDisplayInfos": {},
       "data": [
        [
         2017,
         -0.931108090202212
        ],
        [
         2018,
         -1.2800334222436582
        ],
        [
         2019,
         -1.2599444867628549
        ],
        [
         2020,
         -1.1844579505175794
        ],
        [
         2021,
         -1.1649662745065719
        ],
        [
         2022,
         -1.0887608780462763
        ],
        [
         2023,
         -1.0681783871467871
        ],
        [
         2024,
         -0.9928499038501002
        ],
        [
         2025,
         -0.9731870281129673
        ],
        [
         2026,
         -0.897287897508523
        ],
        [
         2027,
         -0.8766601447702875
        ],
        [
         2028,
         -0.8013225201693395
        ],
        [
         2029,
         -0.7807772006454954
        ],
        [
         2030,
         -0.7063278558344095
        ],
        [
         2031,
         -0.6851156164478134
        ],
        [
         2032,
         -0.6367320342357203
        ],
        [
         2033,
         -0.5606680601109097
        ],
        [
         2034,
         -0.5417405650384701
        ],
        [
         2035,
         -0.46510620218681353
        ],
        [
         2036,
         -0.44521346038668597
        ],
        [
         2037,
         -0.3691410684008751
        ],
        [
         2038,
         -0.3493302343379945
        ],
        [
         2039,
         -0.27414668406148124
        ],
        [
         2040,
         -0.2536683609205568
        ],
        [
         2041,
         -0.17769557899918453
        ],
        [
         2042,
         -0.1574060598022342
        ],
        [
         2043,
         -0.08212003360003806
        ],
        [
         2044,
         -0.062427934584430744
        ],
        [
         2045,
         0.013577131602698245
        ],
        [
         2046,
         0.0343598555506226
        ],
        [
         2047,
         0.10948820103243406
        ],
        [
         2048,
         0.12935112218058364
        ],
        [
         2049,
         0.20505028780215895
        ],
        [
         2050,
         0.2258779335608807
        ],
        [
         2051,
         0.3010157128284021
        ],
        [
         2052,
         0.3217608422867464
        ],
        [
         2053,
         0.3690184564755121
        ],
        [
         2054,
         0.44575891656753086
        ],
        [
         2055,
         0.4658064184751147
        ],
        [
         2056,
         0.541669782874834
        ],
        [
         2057,
         0.5607979432205958
        ],
        [
         2058,
         0.6372316003402005
        ],
        [
         2059,
         0.6573250469976983
        ],
        [
         2060,
         0.733196750093775
        ],
        [
         2061,
         0.7532082278260965
        ],
        [
         2062,
         0.8281911926350389
        ],
        [
         2063,
         0.8488700247051746
        ],
        [
         2064,
         0.924642382917547
        ],
        [
         2065,
         0.9451322318585085
        ],
        [
         2066,
         1.020218024418476
        ],
        [
         2067,
         1.0401102603452728
        ],
        [
         2068,
         1.1159152796577416
        ],
        [
         2069,
         1.1368979663105492
        ],
        [
         2070,
         1.2118264154212923
        ],
        [
         2071,
         1.2318891772178517
        ],
        [
         2072,
         1.2803163776162165
        ],
        [
         2073,
         1.3568242266567196
        ],
        [
         2074,
         1.3765786949330305
        ],
        [
         2075,
         1.4523997197401677
        ],
        [
         2076,
         1.471556944728853
        ],
        [
         2077,
         1.5480967314261846
        ],
        [
         2078,
         1.5683449326180963
        ],
        [
         2079,
         1.6440075871942703
        ],
        [
         2080,
         1.6633364327451154
        ],
        [
         2081,
         1.739569443584621
        ],
        [
         2082,
         1.759863473958287
        ],
        [
         2083,
         1.8355346670113413
        ],
        [
         2084,
         1.8557465677482519
        ],
        [
         2085,
         1.930529202284017
        ],
        [
         2086,
         1.9514082674025772
        ],
        [
         2087,
         2.026980487800081
        ],
        [
         2088,
         2.047670382152056
        ],
        [
         2089,
         2.122556209729165
        ],
        [
         2090,
         2.1426483386764303
        ],
        [
         2091,
         2.2182535126554725
        ],
        [
         2092,
         2.2394360092428194
        ],
        [
         2093,
         2.2871929588081805
        ],
        [
         2094,
         2.362710987248846
        ],
        [
         2095,
         2.3828548303270622
        ],
        [
         2096,
         2.4591620696424705
        ],
        [
         2097,
         2.4791172031920823
        ],
        [
         2098,
         2.554737522267189
        ],
        [
         2099,
         2.5740954521132444
        ]
       ],
       "datasetInfos": [],
       "dbfsResultPath": null,
       "isJsonSchema": true,
       "metadata": {},
       "overflow": false,
       "plotOptions": {
        "customPlotOptions": {},
        "displayType": "table",
        "pivotAggregation": null,
        "pivotColumns": null,
        "xColumns": null,
        "yColumns": null
       },
       "removedWidgets": [],
       "schema": [
        {
         "metadata": "{}",
         "name": "year",
         "type": "\"integer\""
        },
        {
         "metadata": "{}",
         "name": "avg_global_sst",
         "type": "\"double\""
        }
       ],
       "type": "table"
      }
     },
     "output_type": "display_data"
    }
   ],
   "source": [
    "%sql\n",
    "SELECT YEAR(date) AS year, AVG(prediction)-20.85 AS avg_global_sst\n",
    "FROM long_prediction\n",
    "GROUP BY year\n",
    "ORDER BY year"
   ]
  },
  {
   "cell_type": "markdown",
   "metadata": {
    "application/vnd.databricks.v1+cell": {
     "cellMetadata": {},
     "inputWidgets": {},
     "nuid": "04a2ae13-e985-474f-b3de-cf5d6ab2c8dc",
     "showTitle": false,
     "title": ""
    }
   },
   "source": [
    "We then apply a normal distribution randomness to these anomalies."
   ]
  },
  {
   "cell_type": "code",
   "execution_count": 0,
   "metadata": {
    "application/vnd.databricks.v1+cell": {
     "cellMetadata": {
      "byteLimit": 2048000,
      "rowLimit": 10000
     },
     "inputWidgets": {},
     "nuid": "34b2e604-f367-46cb-bc30-7b788ebf7887",
     "showTitle": false,
     "title": ""
    }
   },
   "outputs": [],
   "source": [
    "anomalies = _sqldf"
   ]
  },
  {
   "cell_type": "code",
   "execution_count": 0,
   "metadata": {
    "application/vnd.databricks.v1+cell": {
     "cellMetadata": {
      "byteLimit": 2048000,
      "rowLimit": 10000
     },
     "inputWidgets": {},
     "nuid": "12b83418-6314-4323-82ed-24eabdcb224f",
     "showTitle": false,
     "title": ""
    }
   },
   "outputs": [
    {
     "output_type": "display_data",
     "data": {
      "text/html": [
       "<style scoped>\n  .table-result-container {\n    max-height: 300px;\n    overflow: auto;\n  }\n  table, th, td {\n    border: 1px solid black;\n    border-collapse: collapse;\n  }\n  th, td {\n    padding: 5px;\n  }\n  th {\n    text-align: left;\n  }\n</style><div class='table-result-container'><table class='table-result'><thead style='background-color: white'><tr><th>year</th><th>avg_global_sst</th></tr></thead><tbody><tr><td>2017</td><td>-0.3787822078929176</td></tr><tr><td>2018</td><td>-1.2995768336016296</td></tr><tr><td>2019</td><td>-0.9965743945605556</td></tr><tr><td>2020</td><td>-1.219002961725911</td></tr><tr><td>2021</td><td>-1.5656833286877456</td></tr><tr><td>2022</td><td>-1.2270365602004178</td></tr><tr><td>2023</td><td>-1.3891527875605756</td></tr><tr><td>2024</td><td>-1.8964882453276153</td></tr><tr><td>2025</td><td>-0.995972824540093</td></tr><tr><td>2026</td><td>-1.1549001010673707</td></tr><tr><td>2027</td><td>-0.48497789474739283</td></tr><tr><td>2028</td><td>-0.6904649490390027</td></tr><tr><td>2029</td><td>-1.0657676489164594</td></tr><tr><td>2030</td><td>-0.2866387731948425</td></tr><tr><td>2031</td><td>0.41261524052654996</td></tr><tr><td>2032</td><td>-0.5834459346531843</td></tr><tr><td>2033</td><td>-0.8344822343398852</td></tr><tr><td>2034</td><td>-0.5235306404901933</td></tr><tr><td>2035</td><td>-0.31836750656473245</td></tr><tr><td>2036</td><td>-0.3013802976867674</td></tr><tr><td>2037</td><td>-0.9850139807995616</td></tr><tr><td>2038</td><td>0.17082707666296781</td></tr><tr><td>2039</td><td>-0.2123865154712186</td></tr><tr><td>2040</td><td>0.15582674078896852</td></tr><tr><td>2041</td><td>-0.5395123016467714</td></tr><tr><td>2042</td><td>0.35243829823540507</td></tr><tr><td>2043</td><td>0.23001229026917397</td></tr><tr><td>2044</td><td>-0.5784589889423749</td></tr><tr><td>2045</td><td>-0.06174743305130263</td></tr><tr><td>2046</td><td>0.2859327549657821</td></tr><tr><td>2047</td><td>0.28788215440280884</td></tr><tr><td>2048</td><td>1.259320246257038</td></tr><tr><td>2049</td><td>0.10435168428814645</td></tr><tr><td>2050</td><td>-0.06910635759396194</td></tr><tr><td>2051</td><td>0.6764534855425675</td></tr><tr><td>2052</td><td>2.081270808723785</td></tr><tr><td>2053</td><td>0.09728562168004201</td></tr><tr><td>2054</td><td>0.876533955963887</td></tr><tr><td>2055</td><td>0.40687767625304977</td></tr><tr><td>2056</td><td>0.6131583889151346</td></tr><tr><td>2057</td><td>0.6858575293722469</td></tr><tr><td>2058</td><td>1.2205299043932543</td></tr><tr><td>2059</td><td>0.35859115477163045</td></tr><tr><td>2060</td><td>1.0937761002298294</td></tr><tr><td>2061</td><td>2.017007920862101</td></tr><tr><td>2062</td><td>-0.44038940566466245</td></tr><tr><td>2063</td><td>1.0897181431416565</td></tr><tr><td>2064</td><td>0.8248169606716317</td></tr><tr><td>2065</td><td>1.3177452485208623</td></tr><tr><td>2066</td><td>1.2723457927702444</td></tr><tr><td>2067</td><td>0.6607895701301394</td></tr><tr><td>2068</td><td>1.7879586021203933</td></tr><tr><td>2069</td><td>1.3843250923977326</td></tr><tr><td>2070</td><td>1.6559302776983267</td></tr><tr><td>2071</td><td>1.1029405249659403</td></tr><tr><td>2072</td><td>1.3888956380167288</td></tr><tr><td>2073</td><td>1.0549070233219902</td></tr><tr><td>2074</td><td>1.183044890075384</td></tr><tr><td>2075</td><td>1.114065101073917</td></tr><tr><td>2076</td><td>1.5074633455916715</td></tr><tr><td>2077</td><td>1.2576350630360107</td></tr><tr><td>2078</td><td>2.04783289740766</td></tr><tr><td>2079</td><td>1.8701074654874394</td></tr><tr><td>2080</td><td>2.2136511032255304</td></tr><tr><td>2081</td><td>1.6422276000995808</td></tr><tr><td>2082</td><td>1.8040870725659928</td></tr><tr><td>2083</td><td>1.485853553061292</td></tr><tr><td>2084</td><td>1.7649437147821665</td></tr><tr><td>2085</td><td>2.092708429579385</td></tr><tr><td>2086</td><td>2.379631294793997</td></tr><tr><td>2087</td><td>2.2470441383701574</td></tr><tr><td>2088</td><td>1.0066936706326792</td></tr><tr><td>2089</td><td>1.2986321937888818</td></tr><tr><td>2090</td><td>2.600415423999666</td></tr><tr><td>2091</td><td>2.2922070289732552</td></tr><tr><td>2092</td><td>2.322667110181383</td></tr><tr><td>2093</td><td>2.462492447199438</td></tr><tr><td>2094</td><td>3.182258753840999</td></tr><tr><td>2095</td><td>2.1199514571832814</td></tr><tr><td>2096</td><td>2.8854309390068056</td></tr><tr><td>2097</td><td>3.119528675881256</td></tr><tr><td>2098</td><td>2.350134403419718</td></tr><tr><td>2099</td><td>1.5547655589490255</td></tr></tbody></table></div>"
      ]
     },
     "metadata": {
      "application/vnd.databricks.v1+output": {
       "addedWidgets": {},
       "aggData": [],
       "aggError": "",
       "aggOverflow": false,
       "aggSchema": [],
       "aggSeriesLimitReached": false,
       "aggType": "",
       "arguments": {},
       "columnCustomDisplayInfos": {},
       "data": [
        [
         2017,
         -0.3787822078929176
        ],
        [
         2018,
         -1.2995768336016296
        ],
        [
         2019,
         -0.9965743945605556
        ],
        [
         2020,
         -1.219002961725911
        ],
        [
         2021,
         -1.5656833286877456
        ],
        [
         2022,
         -1.2270365602004178
        ],
        [
         2023,
         -1.3891527875605756
        ],
        [
         2024,
         -1.8964882453276153
        ],
        [
         2025,
         -0.995972824540093
        ],
        [
         2026,
         -1.1549001010673707
        ],
        [
         2027,
         -0.48497789474739283
        ],
        [
         2028,
         -0.6904649490390027
        ],
        [
         2029,
         -1.0657676489164594
        ],
        [
         2030,
         -0.2866387731948425
        ],
        [
         2031,
         0.41261524052654996
        ],
        [
         2032,
         -0.5834459346531843
        ],
        [
         2033,
         -0.8344822343398852
        ],
        [
         2034,
         -0.5235306404901933
        ],
        [
         2035,
         -0.31836750656473245
        ],
        [
         2036,
         -0.3013802976867674
        ],
        [
         2037,
         -0.9850139807995616
        ],
        [
         2038,
         0.17082707666296781
        ],
        [
         2039,
         -0.2123865154712186
        ],
        [
         2040,
         0.15582674078896852
        ],
        [
         2041,
         -0.5395123016467714
        ],
        [
         2042,
         0.35243829823540507
        ],
        [
         2043,
         0.23001229026917397
        ],
        [
         2044,
         -0.5784589889423749
        ],
        [
         2045,
         -0.06174743305130263
        ],
        [
         2046,
         0.2859327549657821
        ],
        [
         2047,
         0.28788215440280884
        ],
        [
         2048,
         1.259320246257038
        ],
        [
         2049,
         0.10435168428814645
        ],
        [
         2050,
         -0.06910635759396194
        ],
        [
         2051,
         0.6764534855425675
        ],
        [
         2052,
         2.081270808723785
        ],
        [
         2053,
         0.09728562168004201
        ],
        [
         2054,
         0.876533955963887
        ],
        [
         2055,
         0.40687767625304977
        ],
        [
         2056,
         0.6131583889151346
        ],
        [
         2057,
         0.6858575293722469
        ],
        [
         2058,
         1.2205299043932543
        ],
        [
         2059,
         0.35859115477163045
        ],
        [
         2060,
         1.0937761002298294
        ],
        [
         2061,
         2.017007920862101
        ],
        [
         2062,
         -0.44038940566466245
        ],
        [
         2063,
         1.0897181431416565
        ],
        [
         2064,
         0.8248169606716317
        ],
        [
         2065,
         1.3177452485208623
        ],
        [
         2066,
         1.2723457927702444
        ],
        [
         2067,
         0.6607895701301394
        ],
        [
         2068,
         1.7879586021203933
        ],
        [
         2069,
         1.3843250923977326
        ],
        [
         2070,
         1.6559302776983267
        ],
        [
         2071,
         1.1029405249659403
        ],
        [
         2072,
         1.3888956380167288
        ],
        [
         2073,
         1.0549070233219902
        ],
        [
         2074,
         1.183044890075384
        ],
        [
         2075,
         1.114065101073917
        ],
        [
         2076,
         1.5074633455916715
        ],
        [
         2077,
         1.2576350630360107
        ],
        [
         2078,
         2.04783289740766
        ],
        [
         2079,
         1.8701074654874394
        ],
        [
         2080,
         2.2136511032255304
        ],
        [
         2081,
         1.6422276000995808
        ],
        [
         2082,
         1.8040870725659928
        ],
        [
         2083,
         1.485853553061292
        ],
        [
         2084,
         1.7649437147821665
        ],
        [
         2085,
         2.092708429579385
        ],
        [
         2086,
         2.379631294793997
        ],
        [
         2087,
         2.2470441383701574
        ],
        [
         2088,
         1.0066936706326792
        ],
        [
         2089,
         1.2986321937888818
        ],
        [
         2090,
         2.600415423999666
        ],
        [
         2091,
         2.2922070289732552
        ],
        [
         2092,
         2.322667110181383
        ],
        [
         2093,
         2.462492447199438
        ],
        [
         2094,
         3.182258753840999
        ],
        [
         2095,
         2.1199514571832814
        ],
        [
         2096,
         2.8854309390068056
        ],
        [
         2097,
         3.119528675881256
        ],
        [
         2098,
         2.350134403419718
        ],
        [
         2099,
         1.5547655589490255
        ]
       ],
       "datasetInfos": [],
       "dbfsResultPath": null,
       "isJsonSchema": true,
       "metadata": {},
       "overflow": false,
       "plotOptions": {
        "customPlotOptions": {},
        "displayType": "table",
        "pivotAggregation": null,
        "pivotColumns": null,
        "xColumns": null,
        "yColumns": null
       },
       "removedWidgets": [],
       "schema": [
        {
         "metadata": "{}",
         "name": "year",
         "type": "\"long\""
        },
        {
         "metadata": "{}",
         "name": "avg_global_sst",
         "type": "\"double\""
        }
       ],
       "type": "table"
      }
     },
     "output_type": "display_data"
    }
   ],
   "source": [
    "import scipy.stats as sp\n",
    "df = anomalies.toPandas()\n",
    "\n",
    "def normal(x):\n",
    "    random = sp.norm(0,0.5).rvs()\n",
    "    return x+random\n",
    "\n",
    "df[\"avg_global_sst\"] = df[\"avg_global_sst\"].apply(normal)\n",
    "df.display(5)"
   ]
  },
  {
   "cell_type": "markdown",
   "metadata": {
    "application/vnd.databricks.v1+cell": {
     "cellMetadata": {},
     "inputWidgets": {},
     "nuid": "7ea8bd03-a79f-4ecd-8acc-269d308c5cdf",
     "showTitle": false,
     "title": ""
    }
   },
   "source": [
    "Finally, we recreate the warming stripes figure using this data."
   ]
  },
  {
   "cell_type": "code",
   "execution_count": 0,
   "metadata": {
    "application/vnd.databricks.v1+cell": {
     "cellMetadata": {
      "byteLimit": 2048000,
      "rowLimit": 10000
     },
     "inputWidgets": {},
     "nuid": "fbe870f8-cd23-49bc-816c-2481129f4e15",
     "showTitle": false,
     "title": ""
    }
   },
   "outputs": [
    {
     "output_type": "display_data",
     "data": {
      "image/png": "[encoded data removed]"
     },
     "metadata": {
      "application/vnd.databricks.v1+output": {
       "addedWidgets": {},
       "arguments": {},
       "data": "data:image/png;base64,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\n",
       "datasetInfos": [],
       "metadata": {},
       "removedWidgets": [],
       "type": "image"
      }
     },
     "output_type": "display_data"
    }
   ],
   "source": [
    "import pandas as pd\n",
    "import matplotlib.pyplot as plt\n",
    "import matplotlib as mpl\n",
    "from matplotlib.colors import ListedColormap\n",
    "\n",
    "# Create the figure and axes objects, specify the size and the dots per inches \n",
    "fig, ax = plt.subplots(figsize=(13.33,7.5), dpi = 96)\n",
    "\n",
    "# Colours - Choose the colour map - 8 blues and 8 reds\n",
    "cmap = ListedColormap([\n",
    "    '#08306b', '#08519c', '#2171b5', '#4292c6',\n",
    "    '#6baed6', '#9ecae1', '#c6dbef', '#deebf7',\n",
    "    '#fee0d2', '#fcbba1', '#fc9272', '#fb6a4a',\n",
    "    '#ef3b2c', '#cb181d', '#a50f15', '#67000d'])\n",
    "\n",
    "# linearly normalizes data into the [0.0, 1.0] interval\n",
    "norm = mpl.colors.Normalize(df['avg_global_sst'].min(), df['avg_global_sst'].max())\n",
    "\n",
    "# Plot bars\n",
    "bar = ax.bar(df['year'], 1, color=cmap(norm(df['avg_global_sst'])), width=1, zorder=2)\n",
    "# Remove the spines\n",
    "ax.spines[['top', 'left', 'bottom', 'right']].set_visible(False)\n",
    "\n",
    "# Reformat x-axis label and tick labels\n",
    "ax.set_xlabel('', fontsize=12, labelpad=10)\n",
    "ax.set_xlim([df['year'].min()-1, df['year'].max()+1])\n",
    "\n",
    "# Reformat y-axis label and tick labels\n",
    "ax.set_ylabel('', fontsize=12, labelpad=10)\n",
    "ax.set_yticks([])\n",
    "ax.set_ylim([0, 1]) \n",
    "\n",
    "# Adjust the margins around the plot area\n",
    "plt.subplots_adjust(left=0.1, right=None, top=None, bottom=0.2, wspace=None, hspace=None)\n",
    "\n",
    "# Set a white background\n",
    "fig.patch.set_facecolor('white')\n",
    "ax.patch.set_facecolor('white')\n",
    "# Reformat x-axis label and tick labels\n",
    "ax.set_xlabel('', fontsize=12, labelpad=10)\n",
    "ax.xaxis.set_tick_params(pad=2, labelbottom=True, bottom=True, labelsize=12, labelrotation=0, labelcolor='white')\n",
    "ax.set_xlim([df['year'].min()-1, df['year'].max()+1])\n",
    "\n",
    "# Set source text\n",
    "ax.text(x=0.1, y=0.12, s=\"Created using machine learning and NOAA ICOADS, David René 2023\", transform=fig.transFigure, ha='left', fontsize=10, alpha=.7, color='white')\n",
    "\n",
    "# Set graph title\n",
    "ax.set_title('Global Sea Surface Temperature Change (2017 - 2100)', loc='left', color='white', fontweight=\"bold\", size=16, pad=10)\n",
    "\n",
    "# Adjust the margins around the plot area\n",
    "plt.subplots_adjust(left=0.11, right=None, top=None, bottom=0.2, wspace=None, hspace=None)\n",
    "\n",
    "# Set a black background\n",
    "fig.patch.set_facecolor('black')\n",
    "ax.patch.set_facecolor('black')"
   ]
  },
  {
   "cell_type": "markdown",
   "metadata": {
    "application/vnd.databricks.v1+cell": {
     "cellMetadata": {},
     "inputWidgets": {},
     "nuid": "a3528c0d-ac60-46b4-87ed-f35b3d25b9bd",
     "showTitle": false,
     "title": ""
    }
   },
   "source": [
    "We then recreate the warming stripes for the years 1850-2017 using NOAA ICOADS data so that we can do proper comparison."
   ]
  },
  {
   "cell_type": "code",
   "execution_count": 0,
   "metadata": {
    "application/vnd.databricks.v1+cell": {
     "cellMetadata": {
      "byteLimit": 2048000,
      "implicitDf": true,
      "rowLimit": 10000
     },
     "inputWidgets": {},
     "nuid": "145c6eda-5dde-473f-8f93-2121776ead62",
     "showTitle": false,
     "title": ""
    }
   },
   "outputs": [
    {
     "output_type": "display_data",
     "data": {
      "text/html": [
       "<style scoped>\n  .table-result-container {\n    max-height: 300px;\n    overflow: auto;\n  }\n  table, th, td {\n    border: 1px solid black;\n    border-collapse: collapse;\n  }\n  th, td {\n    padding: 5px;\n  }\n  th {\n    text-align: left;\n  }\n</style><div class='table-result-container'><table class='table-result'><thead style='background-color: white'><tr><th>typical_sst</th></tr></thead><tbody><tr><td>18.43785872687043</td></tr></tbody></table></div>"
      ]
     },
     "metadata": {
      "application/vnd.databricks.v1+output": {
       "addedWidgets": {},
       "aggData": [],
       "aggError": "",
       "aggOverflow": false,
       "aggSchema": [],
       "aggSeriesLimitReached": false,
       "aggType": "",
       "arguments": {},
       "columnCustomDisplayInfos": {},
       "data": [
        [
         18.43785872687043
        ]
       ],
       "datasetInfos": [],
       "dbfsResultPath": null,
       "isJsonSchema": true,
       "metadata": {},
       "overflow": false,
       "plotOptions": {
        "customPlotOptions": {},
        "displayType": "table",
        "pivotAggregation": null,
        "pivotColumns": null,
        "xColumns": null,
        "yColumns": null
       },
       "removedWidgets": [],
       "schema": [
        {
         "metadata": "{}",
         "name": "typical_sst",
         "type": "\"double\""
        }
       ],
       "type": "table"
      }
     },
     "output_type": "display_data"
    }
   ],
   "source": [
    "%sql\n",
    "SELECT AVG(avg_global_sst) AS typical_sst\n",
    "FROM noaa_icoads_agg\n",
    "WHERE YEAR(date) BETWEEN YEAR(DATE(\"1970-01-01\")) AND YEAR(DATE(\"2001-01-01\"))"
   ]
  },
  {
   "cell_type": "code",
   "execution_count": 0,
   "metadata": {
    "application/vnd.databricks.v1+cell": {
     "cellMetadata": {
      "byteLimit": 2048000,
      "implicitDf": true,
      "rowLimit": 10000
     },
     "inputWidgets": {},
     "nuid": "573b478c-76ce-4a24-9757-0b4949f1baad",
     "showTitle": false,
     "title": ""
    }
   },
   "outputs": [
    {
     "output_type": "display_data",
     "data": {
      "text/html": [
       "<style scoped>\n  .table-result-container {\n    max-height: 300px;\n    overflow: auto;\n  }\n  table, th, td {\n    border: 1px solid black;\n    border-collapse: collapse;\n  }\n  th, td {\n    padding: 5px;\n  }\n  th {\n    text-align: left;\n  }\n</style><div class='table-result-container'><table class='table-result'><thead style='background-color: white'><tr><th>year</th><th>avg_global_sst</th></tr></thead><tbody><tr><td>1850</td><td>1.3331231368730236</td></tr><tr><td>1851</td><td>1.963831680640265</td></tr><tr><td>1852</td><td>2.3133972386677186</td></tr><tr><td>1853</td><td>1.7515663426213948</td></tr><tr><td>1854</td><td>2.190512120534404</td></tr><tr><td>1855</td><td>2.7819290691171084</td></tr><tr><td>1856</td><td>2.7993397201010843</td></tr><tr><td>1857</td><td>2.154533469188074</td></tr><tr><td>1858</td><td>2.4148229917303183</td></tr><tr><td>1859</td><td>2.504979251812717</td></tr><tr><td>1860</td><td>1.343413439829046</td></tr><tr><td>1861</td><td>1.8527184096980882</td></tr><tr><td>1862</td><td>1.733748539892467</td></tr><tr><td>1863</td><td>2.0363554085433897</td></tr><tr><td>1864</td><td>1.9338482282030647</td></tr><tr><td>1865</td><td>2.074878983651036</td></tr><tr><td>1866</td><td>2.588414660118474</td></tr><tr><td>1867</td><td>2.6700864957342247</td></tr><tr><td>1868</td><td>2.0405094308074894</td></tr><tr><td>1869</td><td>2.056900180998568</td></tr><tr><td>1870</td><td>1.0978825348709869</td></tr><tr><td>1871</td><td>0.48007554225990035</td></tr><tr><td>1872</td><td>1.4556283599263438</td></tr><tr><td>1873</td><td>0.6382694102614828</td></tr><tr><td>1874</td><td>0.5523338700106102</td></tr><tr><td>1875</td><td>0.8841677924440958</td></tr><tr><td>1876</td><td>0.5644874298338038</td></tr><tr><td>1877</td><td>0.9217718877005332</td></tr><tr><td>1878</td><td>0.49396913962348776</td></tr><tr><td>1879</td><td>0.5017095670804572</td></tr><tr><td>1880</td><td>0.3850965008693663</td></tr><tr><td>1881</td><td>1.2816940346308527</td></tr><tr><td>1882</td><td>0.953344361572789</td></tr><tr><td>1883</td><td>1.242491425017846</td></tr><tr><td>1884</td><td>1.6526658974090864</td></tr><tr><td>1885</td><td>1.9282548604591945</td></tr><tr><td>1886</td><td>1.9778506683055284</td></tr><tr><td>1887</td><td>1.873231134700852</td></tr><tr><td>1888</td><td>1.578596987822916</td></tr><tr><td>1889</td><td>1.3937826916705944</td></tr><tr><td>1890</td><td>0.837515187839287</td></tr><tr><td>1891</td><td>0.725948098349221</td></tr><tr><td>1892</td><td>0.45700095115360995</td></tr><tr><td>1893</td><td>0.3055773492471552</td></tr><tr><td>1894</td><td>0.30916567842877996</td></tr><tr><td>1895</td><td>0.4046002742099013</td></tr><tr><td>1896</td><td>0.694832718274192</td></tr><tr><td>1897</td><td>0.6287063648049269</td></tr><tr><td>1898</td><td>0.3137717042353465</td></tr><tr><td>1899</td><td>0.13682966679990827</td></tr><tr><td>1900</td><td>0.0061798335492611045</td></tr><tr><td>1901</td><td>-0.01909029700244602</td></tr><tr><td>1902</td><td>0.5180606137648844</td></tr><tr><td>1903</td><td>0.09387272823183324</td></tr><tr><td>1904</td><td>-0.7785915826890211</td></tr><tr><td>1905</td><td>-0.8849833333967432</td></tr><tr><td>1906</td><td>-0.3264407526828954</td></tr><tr><td>1907</td><td>-0.5899159623927588</td></tr><tr><td>1908</td><td>-0.390287643595304</td></tr><tr><td>1909</td><td>-0.4299325288381155</td></tr><tr><td>1910</td><td>-0.3153282686073666</td></tr><tr><td>1911</td><td>-0.4808124500381119</td></tr><tr><td>1912</td><td>-0.12544372869290754</td></tr><tr><td>1913</td><td>0.16450524272012146</td></tr><tr><td>1914</td><td>0.7271220096146891</td></tr><tr><td>1915</td><td>0.6469549444779794</td></tr><tr><td>1916</td><td>0.8259837086293622</td></tr><tr><td>1917</td><td>0.7607790266286116</td></tr><tr><td>1918</td><td>0.8135344757154677</td></tr><tr><td>1919</td><td>1.01013235404292</td></tr><tr><td>1920</td><td>0.94902727931429</td></tr><tr><td>1921</td><td>1.4141410584300225</td></tr><tr><td>1922</td><td>1.65395546721858</td></tr><tr><td>1923</td><td>1.7802356887556314</td></tr><tr><td>1924</td><td>1.8169581235099592</td></tr><tr><td>1925</td><td>1.8698875128938752</td></tr><tr><td>1926</td><td>1.964430234183208</td></tr><tr><td>1927</td><td>1.8894583715461515</td></tr><tr><td>1928</td><td>1.7467356399934957</td></tr><tr><td>1929</td><td>1.732979190822288</td></tr><tr><td>1930</td><td>1.853486725239616</td></tr><tr><td>1931</td><td>1.7793023650868847</td></tr><tr><td>1932</td><td>1.3341126581053722</td></tr><tr><td>1933</td><td>1.3117204513780685</td></tr><tr><td>1934</td><td>1.3776554091745403</td></tr><tr><td>1935</td><td>1.5723326197885754</td></tr><tr><td>1936</td><td>1.64966565202376</td></tr><tr><td>1937</td><td>2.0330095325241118</td></tr><tr><td>1938</td><td>1.6141679147003956</td></tr><tr><td>1939</td><td>1.7963976437795068</td></tr><tr><td>1940</td><td>2.498415236154898</td></tr><tr><td>1941</td><td>2.6091059724502976</td></tr><tr><td>1942</td><td>0.7992298149046952</td></tr><tr><td>1943</td><td>1.303455074858043</td></tr><tr><td>1944</td><td>2.7947717731195887</td></tr><tr><td>1945</td><td>3.6858035597495835</td></tr><tr><td>1946</td><td>0.6767301976348534</td></tr><tr><td>1947</td><td>0.13789998406166148</td></tr><tr><td>1948</td><td>0.28610338541612634</td></tr><tr><td>1949</td><td>0.9483162861953254</td></tr><tr><td>1950</td><td>1.0683483277203116</td></tr><tr><td>1951</td><td>0.7049572706594205</td></tr><tr><td>1952</td><td>0.6499235803143826</td></tr><tr><td>1953</td><td>0.7951416958828901</td></tr><tr><td>1954</td><td>1.0978235897246726</td></tr><tr><td>1955</td><td>0.5802062531484857</td></tr><tr><td>1956</td><td>0.688151040075617</td></tr><tr><td>1957</td><td>0.9248009992765098</td></tr><tr><td>1958</td><td>1.076172702403813</td></tr><tr><td>1959</td><td>1.056728880985908</td></tr><tr><td>1960</td><td>1.109952416951483</td></tr><tr><td>1961</td><td>0.9068190416822723</td></tr><tr><td>1962</td><td>0.9143995238369236</td></tr><tr><td>1963</td><td>0.8588455373955632</td></tr><tr><td>1964</td><td>0.49628068761196786</td></tr><tr><td>1965</td><td>0.3646690010863445</td></tr><tr><td>1966</td><td>0.46153840220851805</td></tr><tr><td>1967</td><td>0.29416527297019357</td></tr><tr><td>1968</td><td>0.4410846218983444</td></tr><tr><td>1969</td><td>0.3861161363863346</td></tr><tr><td>1970</td><td>0.3540265982415569</td></tr><tr><td>1971</td><td>0.10826922916281134</td></tr><tr><td>1972</td><td>0.09412119996527224</td></tr><tr><td>1973</td><td>0.28947859261959863</td></tr><tr><td>1974</td><td>0.4502847447451863</td></tr><tr><td>1975</td><td>0.30223681375941425</td></tr><tr><td>1976</td><td>-0.23127558314048358</td></tr><tr><td>1977</td><td>0.06755125999540113</td></tr><tr><td>1978</td><td>0.012480025313927001</td></tr><tr><td>1979</td><td>0.08445083876036108</td></tr><tr><td>1980</td><td>-0.28034601893662625</td></tr><tr><td>1981</td><td>-0.553759021878399</td></tr><tr><td>1982</td><td>-0.47037985398186066</td></tr><tr><td>1983</td><td>-0.6360545621743015</td></tr><tr><td>1984</td><td>-0.908044828900838</td></tr><tr><td>1985</td><td>-1.0390150643942313</td></tr><tr><td>1986</td><td>-1.0939801918156142</td></tr><tr><td>1987</td><td>-0.8878724759023378</td></tr><tr><td>1988</td><td>-1.1513099948654677</td></tr><tr><td>1989</td><td>-0.571712199477389</td></tr><tr><td>1990</td><td>-0.33610891342491556</td></tr><tr><td>1991</td><td>-0.2208579309501566</td></tr><tr><td>1992</td><td>0.5019813048298722</td></tr><tr><td>1993</td><td>1.0787023845815256</td></tr><tr><td>1994</td><td>1.1369367610405519</td></tr><tr><td>1995</td><td>0.40293489798533244</td></tr><tr><td>1996</td><td>0.17399732332756201</td></tr><tr><td>1997</td><td>0.3059636889038586</td></tr><tr><td>1998</td><td>0.32648328930754644</td></tr><tr><td>1999</td><td>0.8022831054088577</td></tr><tr><td>2000</td><td>0.9782611836256621</td></tr><tr><td>2001</td><td>0.843959466971107</td></tr><tr><td>2002</td><td>1.0148626767159357</td></tr><tr><td>2003</td><td>0.20454512898416155</td></tr><tr><td>2004</td><td>0.035532347212818394</td></tr><tr><td>2005</td><td>0.9431845103636363</td></tr><tr><td>2006</td><td>0.6310760517573826</td></tr><tr><td>2007</td><td>-0.13664802517605068</td></tr><tr><td>2008</td><td>-0.47570353738609583</td></tr><tr><td>2009</td><td>0.7514700145425195</td></tr><tr><td>2010</td><td>1.1409122155711344</td></tr><tr><td>2011</td><td>0.7528071699037824</td></tr><tr><td>2012</td><td>0.6304201832684804</td></tr><tr><td>2013</td><td>1.1802057523164677</td></tr><tr><td>2014</td><td>0.7415767168796563</td></tr><tr><td>2015</td><td>0.3513156884805788</td></tr><tr><td>2016</td><td>0.5734214094118677</td></tr><tr><td>2017</td><td>0.6671237311401867</td></tr></tbody></table></div>"
      ]
     },
     "metadata": {
      "application/vnd.databricks.v1+output": {
       "addedWidgets": {},
       "aggData": [],
       "aggError": "",
       "aggOverflow": false,
       "aggSchema": [],
       "aggSeriesLimitReached": false,
       "aggType": "",
       "arguments": {},
       "columnCustomDisplayInfos": {},
       "data": [
        [
         1850,
         1.3331231368730236
        ],
        [
         1851,
         1.963831680640265
        ],
        [
         1852,
         2.3133972386677186
        ],
        [
         1853,
         1.7515663426213948
        ],
        [
         1854,
         2.190512120534404
        ],
        [
         1855,
         2.7819290691171084
        ],
        [
         1856,
         2.7993397201010843
        ],
        [
         1857,
         2.154533469188074
        ],
        [
         1858,
         2.4148229917303183
        ],
        [
         1859,
         2.504979251812717
        ],
        [
         1860,
         1.343413439829046
        ],
        [
         1861,
         1.8527184096980882
        ],
        [
         1862,
         1.733748539892467
        ],
        [
         1863,
         2.0363554085433897
        ],
        [
         1864,
         1.9338482282030647
        ],
        [
         1865,
         2.074878983651036
        ],
        [
         1866,
         2.588414660118474
        ],
        [
         1867,
         2.6700864957342247
        ],
        [
         1868,
         2.0405094308074894
        ],
        [
         1869,
         2.056900180998568
        ],
        [
         1870,
         1.0978825348709869
        ],
        [
         1871,
         0.48007554225990035
        ],
        [
         1872,
         1.4556283599263438
        ],
        [
         1873,
         0.6382694102614828
        ],
        [
         1874,
         0.5523338700106102
        ],
        [
         1875,
         0.8841677924440958
        ],
        [
         1876,
         0.5644874298338038
        ],
        [
         1877,
         0.9217718877005332
        ],
        [
         1878,
         0.49396913962348776
        ],
        [
         1879,
         0.5017095670804572
        ],
        [
         1880,
         0.3850965008693663
        ],
        [
         1881,
         1.2816940346308527
        ],
        [
         1882,
         0.953344361572789
        ],
        [
         1883,
         1.242491425017846
        ],
        [
         1884,
         1.6526658974090864
        ],
        [
         1885,
         1.9282548604591945
        ],
        [
         1886,
         1.9778506683055284
        ],
        [
         1887,
         1.873231134700852
        ],
        [
         1888,
         1.578596987822916
        ],
        [
         1889,
         1.3937826916705944
        ],
        [
         1890,
         0.837515187839287
        ],
        [
         1891,
         0.725948098349221
        ],
        [
         1892,
         0.45700095115360995
        ],
        [
         1893,
         0.3055773492471552
        ],
        [
         1894,
         0.30916567842877996
        ],
        [
         1895,
         0.4046002742099013
        ],
        [
         1896,
         0.694832718274192
        ],
        [
         1897,
         0.6287063648049269
        ],
        [
         1898,
         0.3137717042353465
        ],
        [
         1899,
         0.13682966679990827
        ],
        [
         1900,
         0.0061798335492611045
        ],
        [
         1901,
         -0.01909029700244602
        ],
        [
         1902,
         0.5180606137648844
        ],
        [
         1903,
         0.09387272823183324
        ],
        [
         1904,
         -0.7785915826890211
        ],
        [
         1905,
         -0.8849833333967432
        ],
        [
         1906,
         -0.3264407526828954
        ],
        [
         1907,
         -0.5899159623927588
        ],
        [
         1908,
         -0.390287643595304
        ],
        [
         1909,
         -0.4299325288381155
        ],
        [
         1910,
         -0.3153282686073666
        ],
        [
         1911,
         -0.4808124500381119
        ],
        [
         1912,
         -0.12544372869290754
        ],
        [
         1913,
         0.16450524272012146
        ],
        [
         1914,
         0.7271220096146891
        ],
        [
         1915,
         0.6469549444779794
        ],
        [
         1916,
         0.8259837086293622
        ],
        [
         1917,
         0.7607790266286116
        ],
        [
         1918,
         0.8135344757154677
        ],
        [
         1919,
         1.01013235404292
        ],
        [
         1920,
         0.94902727931429
        ],
        [
         1921,
         1.4141410584300225
        ],
        [
         1922,
         1.65395546721858
        ],
        [
         1923,
         1.7802356887556314
        ],
        [
         1924,
         1.8169581235099592
        ],
        [
         1925,
         1.8698875128938752
        ],
        [
         1926,
         1.964430234183208
        ],
        [
         1927,
         1.8894583715461515
        ],
        [
         1928,
         1.7467356399934957
        ],
        [
         1929,
         1.732979190822288
        ],
        [
         1930,
         1.853486725239616
        ],
        [
         1931,
         1.7793023650868847
        ],
        [
         1932,
         1.3341126581053722
        ],
        [
         1933,
         1.3117204513780685
        ],
        [
         1934,
         1.3776554091745403
        ],
        [
         1935,
         1.5723326197885754
        ],
        [
         1936,
         1.64966565202376
        ],
        [
         1937,
         2.0330095325241118
        ],
        [
         1938,
         1.6141679147003956
        ],
        [
         1939,
         1.7963976437795068
        ],
        [
         1940,
         2.498415236154898
        ],
        [
         1941,
         2.6091059724502976
        ],
        [
         1942,
         0.7992298149046952
        ],
        [
         1943,
         1.303455074858043
        ],
        [
         1944,
         2.7947717731195887
        ],
        [
         1945,
         3.6858035597495835
        ],
        [
         1946,
         0.6767301976348534
        ],
        [
         1947,
         0.13789998406166148
        ],
        [
         1948,
         0.28610338541612634
        ],
        [
         1949,
         0.9483162861953254
        ],
        [
         1950,
         1.0683483277203116
        ],
        [
         1951,
         0.7049572706594205
        ],
        [
         1952,
         0.6499235803143826
        ],
        [
         1953,
         0.7951416958828901
        ],
        [
         1954,
         1.0978235897246726
        ],
        [
         1955,
         0.5802062531484857
        ],
        [
         1956,
         0.688151040075617
        ],
        [
         1957,
         0.9248009992765098
        ],
        [
         1958,
         1.076172702403813
        ],
        [
         1959,
         1.056728880985908
        ],
        [
         1960,
         1.109952416951483
        ],
        [
         1961,
         0.9068190416822723
        ],
        [
         1962,
         0.9143995238369236
        ],
        [
         1963,
         0.8588455373955632
        ],
        [
         1964,
         0.49628068761196786
        ],
        [
         1965,
         0.3646690010863445
        ],
        [
         1966,
         0.46153840220851805
        ],
        [
         1967,
         0.29416527297019357
        ],
        [
         1968,
         0.4410846218983444
        ],
        [
         1969,
         0.3861161363863346
        ],
        [
         1970,
         0.3540265982415569
        ],
        [
         1971,
         0.10826922916281134
        ],
        [
         1972,
         0.09412119996527224
        ],
        [
         1973,
         0.28947859261959863
        ],
        [
         1974,
         0.4502847447451863
        ],
        [
         1975,
         0.30223681375941425
        ],
        [
         1976,
         -0.23127558314048358
        ],
        [
         1977,
         0.06755125999540113
        ],
        [
         1978,
         0.012480025313927001
        ],
        [
         1979,
         0.08445083876036108
        ],
        [
         1980,
         -0.28034601893662625
        ],
        [
         1981,
         -0.553759021878399
        ],
        [
         1982,
         -0.47037985398186066
        ],
        [
         1983,
         -0.6360545621743015
        ],
        [
         1984,
         -0.908044828900838
        ],
        [
         1985,
         -1.0390150643942313
        ],
        [
         1986,
         -1.0939801918156142
        ],
        [
         1987,
         -0.8878724759023378
        ],
        [
         1988,
         -1.1513099948654677
        ],
        [
         1989,
         -0.571712199477389
        ],
        [
         1990,
         -0.33610891342491556
        ],
        [
         1991,
         -0.2208579309501566
        ],
        [
         1992,
         0.5019813048298722
        ],
        [
         1993,
         1.0787023845815256
        ],
        [
         1994,
         1.1369367610405519
        ],
        [
         1995,
         0.40293489798533244
        ],
        [
         1996,
         0.17399732332756201
        ],
        [
         1997,
         0.3059636889038586
        ],
        [
         1998,
         0.32648328930754644
        ],
        [
         1999,
         0.8022831054088577
        ],
        [
         2000,
         0.9782611836256621
        ],
        [
         2001,
         0.843959466971107
        ],
        [
         2002,
         1.0148626767159357
        ],
        [
         2003,
         0.20454512898416155
        ],
        [
         2004,
         0.035532347212818394
        ],
        [
         2005,
         0.9431845103636363
        ],
        [
         2006,
         0.6310760517573826
        ],
        [
         2007,
         -0.13664802517605068
        ],
        [
         2008,
         -0.47570353738609583
        ],
        [
         2009,
         0.7514700145425195
        ],
        [
         2010,
         1.1409122155711344
        ],
        [
         2011,
         0.7528071699037824
        ],
        [
         2012,
         0.6304201832684804
        ],
        [
         2013,
         1.1802057523164677
        ],
        [
         2014,
         0.7415767168796563
        ],
        [
         2015,
         0.3513156884805788
        ],
        [
         2016,
         0.5734214094118677
        ],
        [
         2017,
         0.6671237311401867
        ]
       ],
       "datasetInfos": [],
       "dbfsResultPath": null,
       "isJsonSchema": true,
       "metadata": {},
       "overflow": false,
       "plotOptions": {
        "customPlotOptions": {},
        "displayType": "table",
        "pivotAggregation": null,
        "pivotColumns": null,
        "xColumns": null,
        "yColumns": null
       },
       "removedWidgets": [],
       "schema": [
        {
         "metadata": "{}",
         "name": "year",
         "type": "\"integer\""
        },
        {
         "metadata": "{}",
         "name": "avg_global_sst",
         "type": "\"double\""
        }
       ],
       "type": "table"
      }
     },
     "output_type": "display_data"
    }
   ],
   "source": [
    "%sql\n",
    "SELECT YEAR(date) AS year, AVG(avg_global_sst)-18.44 AS avg_global_sst\n",
    "FROM noaa_icoads_agg\n",
    "GROUP BY year\n",
    "HAVING year > YEAR(DATE(\"1849-01-01\"))\n",
    "ORDER BY year"
   ]
  },
  {
   "cell_type": "code",
   "execution_count": 0,
   "metadata": {
    "application/vnd.databricks.v1+cell": {
     "cellMetadata": {
      "byteLimit": 2048000,
      "rowLimit": 10000
     },
     "inputWidgets": {},
     "nuid": "4848ff27-7103-44ab-a358-77645bd939d5",
     "showTitle": false,
     "title": ""
    }
   },
   "outputs": [],
   "source": [
    "anomalies = _sqldf\n",
    "df = anomalies.toPandas()"
   ]
  },
  {
   "cell_type": "code",
   "execution_count": 0,
   "metadata": {
    "application/vnd.databricks.v1+cell": {
     "cellMetadata": {
      "byteLimit": 2048000,
      "rowLimit": 10000
     },
     "inputWidgets": {},
     "nuid": "d7eeeff2-3c1d-411f-be2e-11369b04b9ef",
     "showTitle": false,
     "title": ""
    }
   },
   "outputs": [
    {
     "output_type": "display_data",
     "data": {
      "image/png": "[encoded data removed]"
     },
     "metadata": {
      "application/vnd.databricks.v1+output": {
       "addedWidgets": {},
       "arguments": {},
       "data": "data:image/png;base64,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\n",
       "datasetInfos": [],
       "metadata": {},
       "removedWidgets": [],
       "type": "image"
      }
     },
     "output_type": "display_data"
    }
   ],
   "source": [
    "import pandas as pd\n",
    "import matplotlib.pyplot as plt\n",
    "import matplotlib as mpl\n",
    "from matplotlib.colors import ListedColormap\n",
    "\n",
    "# Create the figure and axes objects, specify the size and the dots per inches \n",
    "fig, ax = plt.subplots(figsize=(13.33,7.5), dpi = 96)\n",
    "\n",
    "# Colours - Choose the colour map - 8 blues and 8 reds\n",
    "cmap = ListedColormap([\n",
    "    '#08306b', '#08519c', '#2171b5', '#4292c6',\n",
    "    '#6baed6', '#9ecae1', '#c6dbef', '#deebf7',\n",
    "    '#fee0d2', '#fcbba1', '#fc9272', '#fb6a4a',\n",
    "    '#ef3b2c', '#cb181d', '#a50f15', '#67000d'])\n",
    "\n",
    "# linearly normalizes data into the [0.0, 1.0] interval\n",
    "norm = mpl.colors.Normalize(df['avg_global_sst'].min(), df['avg_global_sst'].max())\n",
    "\n",
    "# Plot bars\n",
    "bar = ax.bar(df['year'], 1, color=cmap(norm(df['avg_global_sst'])), width=1, zorder=2)\n",
    "# Remove the spines\n",
    "ax.spines[['top', 'left', 'bottom', 'right']].set_visible(False)\n",
    "\n",
    "# Reformat x-axis label and tick labels\n",
    "ax.set_xlabel('', fontsize=12, labelpad=10)\n",
    "ax.set_xlim([df['year'].min()-1, df['year'].max()+1])\n",
    "\n",
    "# Reformat y-axis label and tick labels\n",
    "ax.set_ylabel('', fontsize=12, labelpad=10)\n",
    "ax.set_yticks([])\n",
    "ax.set_ylim([0, 1]) \n",
    "\n",
    "# Adjust the margins around the plot area\n",
    "plt.subplots_adjust(left=0.1, right=None, top=None, bottom=0.2, wspace=None, hspace=None)\n",
    "\n",
    "# Set a white background\n",
    "fig.patch.set_facecolor('white')\n",
    "ax.patch.set_facecolor('white')\n",
    "# Reformat x-axis label and tick labels\n",
    "ax.set_xlabel('', fontsize=12, labelpad=10)\n",
    "ax.xaxis.set_tick_params(pad=2, labelbottom=True, bottom=True, labelsize=12, labelrotation=0, labelcolor='white')\n",
    "ax.set_xlim([df['year'].min()-1, df['year'].max()+1])\n",
    "\n",
    "# Set source text\n",
    "ax.text(x=0.1, y=0.12, s=\"Source: NOAA ICOADS\", transform=fig.transFigure, ha='left', fontsize=10, alpha=.7, color='white')\n",
    "\n",
    "# Set graph title\n",
    "ax.set_title('Global Sea Surface Temperature Change (1850 - 2017)', loc='left', color='white', fontweight=\"bold\", size=16, pad=10)\n",
    "\n",
    "# Adjust the margins around the plot area\n",
    "plt.subplots_adjust(left=0.11, right=None, top=None, bottom=0.2, wspace=None, hspace=None)\n",
    "\n",
    "# Set a black background\n",
    "fig.patch.set_facecolor('black')\n",
    "ax.patch.set_facecolor('black')"
   ]
  }
 ],
 "metadata": {
  "application/vnd.databricks.v1+notebook": {
   "dashboards": [],
   "language": "python",
   "notebookMetadata": {
    "mostRecentlyExecutedCommandWithImplicitDF": {
     "commandId": 275331336818233,
     "dataframes": [
      "_sqldf"
     ]
    },
    "pythonIndentUnit": 4
   },
   "notebookName": "Anomaly & Warming stripes",
   "notebookOrigID": 275331336818224,
   "widgets": {}
  }
 },
 "nbformat": 4,
 "nbformat_minor": 0
}
