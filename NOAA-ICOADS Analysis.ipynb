{
 "cells": [
  {
   "cell_type": "markdown",
   "metadata": {
    "application/vnd.databricks.v1+cell": {
     "cellMetadata": {
      "byteLimit": 2048000,
      "rowLimit": 10000
     },
     "inputWidgets": {},
     "nuid": "7d824acf-2b24-4705-bda8-001272f0f337",
     "showTitle": false,
     "title": ""
    }
   },
   "source": [
    "# Analysis of NOAA ICOADS data\n",
    "\n",
    "In this notebook, I will provide an analysis of the publically available NOAA International Comprehensive Ocean-Atmosphere Data Set (ICOADS). This dataset contains data collected by ships, buoys and other instruments about ocean/atmosphere properties such as wind direction, atmospheric pressure, but more importantly, sea surface temperature.\n",
    "\n",
    "As part of this project, I will attempt forecasting sea surface temperatures in regions of the Hudson Bay using frameworks such as XGBoost. As presented below, data is available only in specific regions of the Bay and due to the fact large amounts of data is necessary for such a task, forecasting will be done only within small regions."
   ]
  },
  {
   "cell_type": "code",
   "execution_count": 0,
   "metadata": {
    "application/vnd.databricks.v1+cell": {
     "cellMetadata": {
      "byteLimit": 2048000,
      "rowLimit": 10000
     },
     "inputWidgets": {},
     "nuid": "63932620-a3e0-4146-a6f8-6d39db72a153",
     "showTitle": false,
     "title": ""
    }
   },
   "outputs": [],
   "source": [
    "creds = \"/dbfs/FileStore/tables/causal_destiny_378715_ebcf1c481ef4-1.json\"\n",
    "projectID = \"causal-destiny-378715\"\n",
    "base_table = \"causal-destiny-378715.mynoaa.icoads_core_\"\n",
    "tables = [\"1662_2000\", \"2001_2004\", *[str(year) for year in range(2005,2018)]]\n",
    "lats = (51,62)\n",
    "longs = (-95,-76)"
   ]
  },
  {
   "cell_type": "markdown",
   "metadata": {
    "application/vnd.databricks.v1+cell": {
     "cellMetadata": {
      "byteLimit": 2048000,
      "rowLimit": 10000
     },
     "inputWidgets": {},
     "nuid": "ef9277d3-538d-4c3f-9ae2-874acef5947f",
     "showTitle": false,
     "title": ""
    }
   },
   "source": [
    "## Obtaining the data from Google BigQuery\n",
    "NOAA ICOADS is currently available as a public dataset available on Google's BigQuery. In this next cell we will pull the data from Google BigQuery and select only the Hudson Bay region and data points more recent than 1950 to ensure higher quality in our data."
   ]
  },
  {
   "cell_type": "code",
   "execution_count": 0,
   "metadata": {
    "application/vnd.databricks.v1+cell": {
     "cellMetadata": {
      "byteLimit": 2048000,
      "rowLimit": 10000
     },
     "inputWidgets": {},
     "nuid": "e2e005a4-fba9-40a0-b711-26523e67ef71",
     "showTitle": false,
     "title": ""
    }
   },
   "outputs": [
    {
     "output_type": "stream",
     "name": "stdout",
     "output_type": "stream",
     "text": [
      "+----+---------+--------+----------------+\n|date|longitude|latitude|sea_surface_temp|\n+----+---------+--------+----------------+\n|null|   -128.8|    36.6|            17.0|\n|null|    173.5|   -43.5|            16.7|\n|null|     42.5|   -23.5|            27.1|\n|null|     -9.5|    38.5|            13.2|\n|null|    120.5|     8.5|            28.4|\n+----+---------+--------+----------------+\nonly showing top 5 rows\n\n"
     ]
    }
   ],
   "source": [
    "from pyspark.sql.functions import col, isnan, when, count, make_date\n",
    "dfLst = []\n",
    "for table in tables:\n",
    "    df = (\n",
    "        spark.read.format(\"bigquery\")\n",
    "        .option(\"credentialsFile\", creds)\n",
    "        .option(\"parentProject\", projectID)\n",
    "        .option(\"table\", base_table + table)\n",
    "        .load()\n",
    "    )\n",
    "    df = df.select(\n",
    "        make_date(\"year\", \"month\", \"day\").alias(\"date\"), \"longitude\", \"latitude\", \"sea_surface_temp\"\n",
    "    ).orderBy(\"date\")\n",
    "    dfLst.append(df)\n",
    "\n",
    "df = dfLst[0]\n",
    "for i in range(1, len(dfLst)):\n",
    "    df = df.union(dfLst[i])\n",
    "#df = df.select(make_date(\"year\", \"month\", \"day\").alias(\"date\"), \"hour\", \"longitude\", \"latitude\", \"sea_surface_temp\")\n",
    "df.write.mode(\"overwrite\").option(\"overwriteSchema\", \"true\").saveAsTable(\"noaa_icoads\")\n",
    "df.show(5)"
   ]
  },
  {
   "cell_type": "markdown",
   "metadata": {
    "application/vnd.databricks.v1+cell": {
     "cellMetadata": {},
     "inputWidgets": {},
     "nuid": "a63f7231-b64b-42de-b6f8-76853cedc2e7",
     "showTitle": false,
     "title": ""
    }
   },
   "source": [
    "In the cell above, we saved the entirety of the NOAA ICOADS data for the date, longitude, latitude and sea_surface_temperature features.\n",
    "In the cell below, we save the data to Databricks SQL server, which will allow us to quickly reuse the data as needed. It saves a daily global average sea surface temperature (for future use)."
   ]
  },
  {
   "cell_type": "code",
   "execution_count": 0,
   "metadata": {
    "application/vnd.databricks.v1+cell": {
     "cellMetadata": {
      "byteLimit": 2048000,
      "rowLimit": 10000
     },
     "inputWidgets": {},
     "nuid": "402b1600-4b6f-436c-87c6-c4a74ac9f852",
     "showTitle": false,
     "title": ""
    }
   },
   "outputs": [
    {
     "output_type": "stream",
     "name": "stdout",
     "output_type": "stream",
     "text": [
      "Out[1]: DataFrame[num_affected_rows: bigint, num_inserted_rows: bigint]"
     ]
    }
   ],
   "source": [
    "spark.sql('CREATE TABLE noaa_icoads_agg AS (SELECT date, AVG(sea_surface_temp) AS avg_global_sst FROM noaa_icoads GROUP BY date ORDER BY date)')"
   ]
  },
  {
   "cell_type": "markdown",
   "metadata": {
    "application/vnd.databricks.v1+cell": {
     "cellMetadata": {},
     "inputWidgets": {},
     "nuid": "76b83242-90c9-45b8-bafb-446fdd5bc7c0",
     "showTitle": false,
     "title": ""
    }
   },
   "source": [
    "In this cell below, we select the proper data within the Hudson's bay."
   ]
  },
  {
   "cell_type": "code",
   "execution_count": 0,
   "metadata": {
    "application/vnd.databricks.v1+cell": {
     "cellMetadata": {
      "byteLimit": 2048000,
      "rowLimit": 10000
     },
     "inputWidgets": {},
     "nuid": "3157a0b5-29f5-4eb4-985c-e8bdc0dceaa2",
     "showTitle": false,
     "title": ""
    }
   },
   "outputs": [],
   "source": [
    "df = spark.sql('SELECT * FROM noaa_icoads WHERE (latitude BETWEEN 51 AND 62) AND (longitude BETWEEN -95 AND -76) ORDER BY date, longitude, latitude')\n"
   ]
  },
  {
   "cell_type": "markdown",
   "metadata": {
    "application/vnd.databricks.v1+cell": {
     "cellMetadata": {
      "byteLimit": 2048000,
      "rowLimit": 10000
     },
     "inputWidgets": {},
     "nuid": "74b4a8a2-dcd1-4239-a8f3-b80a2a6002bb",
     "showTitle": false,
     "title": ""
    }
   },
   "source": [
    "## Visualizing the data\n",
    "Using [this code](https://www.kaggle.com/code/ihromov/basic-analysis-of-noaa-icoads), we can preview the data that we will cover:\n",
    "\n",
    "![Data Preview](files/tables/datapreview-1.png)\n",
    "\n",
    "Our data is denoted by the dark blue areas.\n",
    "Unfortunately, I was unable to run this data preview here on Databricks due to issues with `mpl_toolkits`."
   ]
  },
  {
   "cell_type": "markdown",
   "metadata": {
    "application/vnd.databricks.v1+cell": {
     "cellMetadata": {},
     "inputWidgets": {},
     "nuid": "958a9dad-9eb8-418c-b06c-42ece13e50e5",
     "showTitle": false,
     "title": ""
    }
   },
   "source": [
    "## Validity Analysis"
   ]
  },
  {
   "cell_type": "markdown",
   "metadata": {
    "application/vnd.databricks.v1+cell": {
     "cellMetadata": {},
     "inputWidgets": {},
     "nuid": "134cb594-faa5-4cc5-83a7-db2fbcbcaa25",
     "showTitle": false,
     "title": ""
    }
   },
   "source": [
    "### Null values\n",
    "Let us have a look at the data we have collected to see if it is well-behaved enough to perform machine learning on it. First of all let us ensure that our data contains no null values"
   ]
  },
  {
   "cell_type": "code",
   "execution_count": 0,
   "metadata": {
    "application/vnd.databricks.v1+cell": {
     "cellMetadata": {
      "byteLimit": 2048000,
      "rowLimit": 10000
     },
     "inputWidgets": {},
     "nuid": "f93281dc-7f1e-4528-a690-6c3e6576a015",
     "showTitle": false,
     "title": ""
    }
   },
   "outputs": [
    {
     "output_type": "stream",
     "name": "stdout",
     "output_type": "stream",
     "text": [
      "+----+-----+---+----+---------+--------+----------------+\n|year|month|day|hour|longitude|latitude|sea_surface_temp|\n+----+-----+---+----+---------+--------+----------------+\n|   0|    0|  0|   0|        0|       0|               0|\n+----+-----+---+----+---------+--------+----------------+\n\n"
     ]
    }
   ],
   "source": [
    "from pyspark.sql.functions import col, isnan, when, count, make_date\n",
    "df2 = df.select([count(when(col(c).contains('None') | \\\n",
    "                            col(c).contains('NULL') | \\\n",
    "                            (col(c) == '' ) | \\\n",
    "                            col(c).isNull(), c \\\n",
    "                           )).alias(c)\n",
    "                    for c in df.columns]) \\\n",
    "        .show()"
   ]
  },
  {
   "cell_type": "markdown",
   "metadata": {
    "application/vnd.databricks.v1+cell": {
     "cellMetadata": {},
     "inputWidgets": {},
     "nuid": "a20abcb5-fab5-496a-8a14-f30a8b608226",
     "showTitle": false,
     "title": ""
    }
   },
   "source": [
    "### Data quantity\n",
    "We then verify the amount of data we have to see if there is grounds to run machine learning"
   ]
  },
  {
   "cell_type": "code",
   "execution_count": 0,
   "metadata": {
    "application/vnd.databricks.v1+cell": {
     "cellMetadata": {
      "byteLimit": 2048000,
      "rowLimit": 10000
     },
     "inputWidgets": {},
     "nuid": "a66b08a9-a9bc-4802-8e68-57d6a87b6875",
     "showTitle": false,
     "title": ""
    }
   },
   "outputs": [
    {
     "output_type": "stream",
     "name": "stdout",
     "output_type": "stream",
     "text": [
      "+-----------------------+\n|count(sea_surface_temp)|\n+-----------------------+\n|                  20194|\n+-----------------------+\n\n"
     ]
    }
   ],
   "source": [
    "df3 = df.select(count(\"sea_surface_temp\")) \\\n",
    "    .show()"
   ]
  },
  {
   "cell_type": "markdown",
   "metadata": {
    "application/vnd.databricks.v1+cell": {
     "cellMetadata": {},
     "inputWidgets": {},
     "nuid": "09aac216-abae-4337-a038-aca6f7c2aea0",
     "showTitle": false,
     "title": ""
    }
   },
   "source": [
    "### Time distribution\n",
    "We then have a look at how the data is distributed through time."
   ]
  },
  {
   "cell_type": "code",
   "execution_count": 0,
   "metadata": {
    "application/vnd.databricks.v1+cell": {
     "cellMetadata": {
      "byteLimit": 2048000,
      "rowLimit": 10000
     },
     "inputWidgets": {},
     "nuid": "f8668639-7cfe-4980-8283-c3c85fb381cd",
     "showTitle": false,
     "title": ""
    }
   },
   "outputs": [
    {
     "output_type": "display_data",
     "data": {
      "application/vnd.databricks.v1+bamboolib_hint": "{\"pd.DataFrames\": [], \"version\": \"0.0.1\"}",
      "text/plain": ""
     },
     "metadata": {
      "application/vnd.databricks.v1+output": {
       "addedWidgets": {},
       "arguments": {},
       "data": {
        "application/vnd.databricks.v1+bamboolib_hint": "{\"pd.DataFrames\": [], \"version\": \"0.0.1\"}",
        "text/plain": ""
       },
       "datasetInfos": [],
       "executionCount": null,
       "metadata": {
        "kernelSessionId": "03073545-8984fb417383fdbc7fb2d7c4"
       },
       "removedWidgets": [],
       "type": "mimeBundle"
      }
     },
     "output_type": "display_data"
    }
   ],
   "source": [
    "from pyspark.sql.functions import col, isnan, when, count, make_date\n",
    "import pandas as pd\n",
    "df4 = df.groupBy(\"year\") \\\n",
    "    .agg(count(\"sea_surface_temp\").alias(\"measurement_count\")) \\\n",
    "    .orderBy(\"year\").toPandas() "
   ]
  },
  {
   "cell_type": "code",
   "execution_count": 0,
   "metadata": {
    "application/vnd.databricks.v1+cell": {
     "cellMetadata": {
      "byteLimit": 2048000,
      "rowLimit": 10000
     },
     "inputWidgets": {},
     "nuid": "19ced4c6-9877-46fe-837d-4cf950ba6823",
     "showTitle": false,
     "title": ""
    }
   },
   "outputs": [
    {
     "output_type": "stream",
     "name": "stdout",
     "output_type": "stream",
     "text": [
      "Out[6]: <AxesSubplot:xlabel='year'>"
     ]
    },
    {
     "output_type": "display_data",
     "data": {
      "image/png": "[encoded data removed]"
     },
     "metadata": {
      "application/vnd.databricks.v1+output": {
       "addedWidgets": {},
       "arguments": {},
       "data": "data:image/png;base64,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\n",
       "datasetInfos": [],
       "metadata": {},
       "removedWidgets": [],
       "type": "image"
      }
     },
     "output_type": "display_data"
    }
   ],
   "source": [
    "df4.plot.line(x=\"year\", y=\"measurement_count\")"
   ]
  },
  {
   "cell_type": "markdown",
   "metadata": {
    "application/vnd.databricks.v1+cell": {
     "cellMetadata": {},
     "inputWidgets": {},
     "nuid": "5b547eed-d5e5-427d-a180-cbd6a76bbc62",
     "showTitle": false,
     "title": ""
    }
   },
   "source": [
    "We see that most of the data was taken around 2005, with some peaks here and there."
   ]
  },
  {
   "cell_type": "code",
   "execution_count": 0,
   "metadata": {
    "application/vnd.databricks.v1+cell": {
     "cellMetadata": {
      "byteLimit": 2048000,
      "rowLimit": 10000
     },
     "inputWidgets": {},
     "nuid": "073c2a7b-9c16-44db-9278-ddab057a29d5",
     "showTitle": false,
     "title": ""
    }
   },
   "outputs": [],
   "source": [
    "df5 = df.groupBy(\"month\") \\\n",
    "    .agg(count(\"sea_surface_temp\").alias(\"measurement_count\")) \\\n",
    "    .orderBy(\"month\").toPandas() "
   ]
  },
  {
   "cell_type": "markdown",
   "metadata": {
    "application/vnd.databricks.v1+cell": {
     "cellMetadata": {},
     "inputWidgets": {},
     "nuid": "038f6cab-a701-487b-8561-b39c2deaa58a",
     "showTitle": false,
     "title": ""
    }
   },
   "source": [
    "We then have a look at how the data is distributed through each year"
   ]
  },
  {
   "cell_type": "code",
   "execution_count": 0,
   "metadata": {
    "application/vnd.databricks.v1+cell": {
     "cellMetadata": {
      "byteLimit": 2048000,
      "rowLimit": 10000
     },
     "inputWidgets": {},
     "nuid": "b5f47add-8b03-43c2-9cc0-f522c9f73891",
     "showTitle": false,
     "title": ""
    }
   },
   "outputs": [
    {
     "output_type": "stream",
     "name": "stdout",
     "output_type": "stream",
     "text": [
      "Out[8]: <AxesSubplot:xlabel='month'>"
     ]
    },
    {
     "output_type": "display_data",
     "data": {
      "image/png": "[encoded data removed]"
     },
     "metadata": {
      "application/vnd.databricks.v1+output": {
       "addedWidgets": {},
       "arguments": {},
       "data": "data:image/png;base64,iVBORw0KGgoAAAANSUhEUgAAAX0AAAEJCAYAAAB4yveGAAAAOXRFWHRTb2Z0d2FyZQBNYXRwbG90bGliIHZlcnNpb24zLjQuMywgaHR0cHM6Ly9tYXRwbG90bGliLm9yZy/MnkTPAAAACXBIWXMAAAsTAAALEwEAmpwYAAAb8klEQVR4nO3dfXBV9b3v8feHQOUcsYKYZlDshd7iEyAhYEA9qBUV1CrYKd7azhF8KNeqt73T22ltOYq12sE5jta2Vx1GadHxAbVSuMo5CiitD1WMGp8AJVrQUIUUkCocH4Dv/WP/km5oQnZws3fC+rxmMnut3/qttb8rkM9e+e3fXlFEYGZm2dCt3AWYmVnpOPTNzDLEoW9mliEOfTOzDHHom5lliEPfzCxDupe7gF058MADY8CAAeUuw8ysS3n++ef/GhGVrW3r1KE/YMAA6urqyl2GmVmXIml1W9s8vGNmliEOfTOzDHHom5llSKce02/Np59+SmNjIx999FG5S7FOrGfPnvTv358ePXqUuxSzTqXLhX5jYyP77bcfAwYMQFK5y7FOKCJYv349jY2NDBw4sNzlmHUqXW5456OPPqJv374OfGuTJPr27evfBs1a0eVCH3DgW7v8f8SsdV0y9K38lixZwtNPP13WGurr61mwYEFZazDrarrcmP7OBlz+cFGPt2rGGUU9Xils3bqV7t1L+0+5ZMkSevXqxbHHHlvS581XX19PXV0dp59+etlq2JsU+2cJuubP097OV/q7YdWqVRx++OFMmTKFQw89lG9961ssWrSI4447jkGDBrF06VI2b97MBRdcQG1tLcOHD2fevHkt+44ZM4aamhpqamparpbfffddjj/+eKqrqxkyZAhPPPEEAL169Wp53gceeIApU6YAMGXKFC6++GJGjRrFD3/4Q958803Gjx/PiBEjGDNmDCtWrGjp953vfIfRo0fzpS99iSVLlnDBBRdwxBFHtBwL4NFHH+WYY46hpqaGSZMm8eGHHwK5T0VPnz6dmpoahg4dyooVK1i1ahW33norN954I9XV1S217mzt2rWcffbZDBs2jGHDhrWc6w033MCQIUMYMmQIv/jFL1q+L0OGDGnZ9/rrr+eqq64C4MQTT+RHP/oRtbW1HHrooTzxxBN88sknXHnllcyZM4fq6mrmzJnzGf5FzbKjy1/pl0tDQwP3338/s2bN4uijj+buu+/mySefZP78+fz85z/nyCOP5KSTTmLWrFm8//771NbWcvLJJ/OFL3yBhQsX0rNnT1auXMm5555LXV0dd999N+PGjWPatGls27aNLVu2tFtDY2MjTz/9NBUVFYwdO5Zbb72VQYMG8eyzz3LJJZfw2GOPAbBx40b+9Kc/MX/+fM466yyeeuopbrvtNo4++mjq6+vp378/11xzDYsWLWLffffluuuu44YbbuDKK68E4MADD+SFF17g5ptv5vrrr+e2227j4osvplevXvzgBz9os77vfve7nHDCCcydO5dt27bx4Ycf8vzzz/Ob3/yGZ599lohg1KhRnHDCCfTp02eX57p161aWLl3KggUL+OlPf8qiRYu4+uqrqaur49e//nUH/uXMss2hv5sGDhzI0KFDARg8eDBjx45FEkOHDmXVqlU0NjYyf/58rr/+eiA36+jtt9/moIMO4rLLLqO+vp6KigreeOMNAI4++mguuOACPv30UyZOnEh1dXW7NUyaNImKigo+/PBDnn76aSZNmtSy7eOPP25ZPvPMM1tqq6qq2qHu5lqXLVvGcccdB8Ann3zCMccc07L/1772NQBGjBjBgw8+WPD36LHHHuOOO+4AoKKigv33358nn3ySs88+m3333bfl2E888QRnnXXWLo+VX8OqVasKrsHMdtRu6Es6DMj/3flLwJXAHal9ALAKOCciNio3beIm4HRgCzAlIl5Ix5oM/Fs6zjURMbs4p1F6++yzT8tyt27dWta7devG1q1bqaio4He/+x2HHXbYDvtdddVVVFVV8dJLL7F9+3Z69uwJwPHHH88f//hHHn74YaZMmcL3v/99zjvvvB1moew8BbE5OLdv307v3r2pr6/fZa35de5c6ymnnMI999yzy/0rKirYunVru9+b3dG9e3e2b9/esr7zuZaiBrMsaHdMPyJej4jqiKgGRpAL8rnA5cDiiBgELE7rAKcBg9LXVOAWAEkHANOBUUAtMF3Srn+n78LGjRvHr371KyICgBdffBGATZs20a9fP7p168add97Jtm3bAFi9ejVVVVV8+9vf5qKLLuKFF14AoKqqiuXLl7N9+3bmzp3b6nN9/vOfZ+DAgdx///1A7sNJL730UsG1jh49mqeeeoqGhgYANm/e3PIbSFv2228/Pvjgg132GTt2LLfccgsA27ZtY9OmTYwZM4bf//73bNmyhc2bNzN37lzGjBlDVVUV69atY/369Xz88cc89NBD7dZdSA1mtqOOvpE7FngzIlYDE4DmK/XZwMS0PAG4I3KeAXpL6geMAxZGxIaI2AgsBMZ/1hPorK644go+/fRTjjrqKAYPHswVV1wBwCWXXMLs2bMZNmwYK1asaLlaX7JkCcOGDWP48OHMmTOH733vewDMmDGDr371qxx77LH069evzee76667uP322xk2bBiDBw9ueeO4EJWVlfz2t7/l3HPP5aijjuKYY45peSO4LWeeeSZz587d5Ru5N910E48//jhDhw5lxIgRLFu2jJqaGqZMmUJtbS2jRo3ioosuYvjw4fTo0YMrr7yS2tpaTjnlFA4//PB26/7KV77CsmXL/EauWQeo+Uq0oM7SLOCFiPi1pPcjondqF7AxInpLegiYERFPpm2LgR8BJwI9I+Ka1H4F8F8Rcf1OzzGV3G8IfPGLXxyxevWOt4Vevnw5RxxxxO6cq2WM/690jKds7j0kPR8RI1vbVvCVvqTPAWcB9++8LXKvHIW/euxCRMyMiJERMbKystU//GJmZrupI8M7p5G7yl+b1temYRvS47rUvgY4JG+//qmtrXbr4q699lqqq6t3+Lr22mvLXZaZtaIjUzbPBfKnd8wHJgMz0uO8vPbLJN1L7k3bTRHxrqRHgJ/nvXl7KvDjz1K8dQ7Tpk1j2rRp5S7DzApQUOhL2hc4Bfifec0zgPskXQisBs5J7QvITddsIDfT53yAiNgg6WfAc6nf1RGx4TOfgZmZFayg0I+IzUDfndrWk5vNs3PfAC5t4zizgFkdL/MfjuO7KNoudWSCglmWdLl77/Ts2ZP169f7h9ra1PxHVJo/+GZmf9flbsPQv39/GhsbaWpqKncp1ok1/7lEM9tRlwv9Hj16+E/gmZntpi43vGNmZrvPoW9mliEOfTOzDHHom5lliEPfzCxDHPpmZhni0DczyxCHvplZhjj0zcwypMt9Itesq/FfpLLOxFf6ZmYZ4tA3M8sQh76ZWYY49M3MMsShb2aWIQ59M7MMKSj0JfWW9ICkFZKWSzpG0gGSFkpamR77pL6S9EtJDZJellSTd5zJqf9KSZP31EmZmVnrCr3Svwn4z4g4HBgGLAcuBxZHxCBgcVoHOA0YlL6mArcASDoAmA6MAmqB6c0vFGZmVhrthr6k/YHjgdsBIuKTiHgfmADMTt1mAxPT8gTgjsh5BugtqR8wDlgYERsiYiOwEBhfxHMxM7N2FHKlPxBoAn4j6UVJt0naF6iKiHdTn/eAqrR8MPBO3v6Nqa2tdjMzK5FCQr87UAPcEhHDgc38fSgHgIgIIIpRkKSpkuok1TU1NRXjkGZmlhQS+o1AY0Q8m9YfIPcisDYN25Ae16Xta4BD8vbvn9raat9BRMyMiJERMbKysrIj52JmZu1oN/Qj4j3gHUmHpaaxwDJgPtA8A2cyMC8tzwfOS7N4RgOb0jDQI8CpkvqkN3BPTW1mZlYihd5l838Bd0n6HPAWcD65F4z7JF0IrAbOSX0XAKcDDcCW1JeI2CDpZ8Bzqd/VEbGhKGdhZmYFKSj0I6IeGNnKprGt9A3g0jaOMwuY1YH6zMysiPyJXDOzDHHom5lliEPfzCxDHPpmZhni0DczyxCHvplZhjj0zcwyxKFvZpYhDn0zswxx6JuZZYhD38wsQxz6ZmYZ4tA3M8sQh76ZWYY49M3MMsShb2aWIQ59M7MMceibmWWIQ9/MLEMc+mZmGVJQ6EtaJekVSfWS6lLbAZIWSlqZHvukdkn6paQGSS9Lqsk7zuTUf6WkyXvmlMzMrC0dudL/SkRUR8TItH45sDgiBgGL0zrAacCg9DUVuAVyLxLAdGAUUAtMb36hMDOz0vgswzsTgNlpeTYwMa/9jsh5BugtqR8wDlgYERsiYiOwEBj/GZ7fzMw6qNDQD+BRSc9LmpraqiLi3bT8HlCVlg8G3snbtzG1tdW+A0lTJdVJqmtqaiqwPDMzK0T3Avv9S0SskfQFYKGkFfkbIyIkRTEKioiZwEyAkSNHFuWYZmaWU9CVfkSsSY/rgLnkxuTXpmEb0uO61H0NcEje7v1TW1vtZmZWIu2GvqR9Je3XvAycCrwKzAeaZ+BMBual5fnAeWkWz2hgUxoGegQ4VVKf9AbuqanNzMxKpJDhnSpgrqTm/ndHxH9Keg64T9KFwGrgnNR/AXA60ABsAc4HiIgNkn4GPJf6XR0RG4p2JmZm1q52Qz8i3gKGtdK+HhjbSnsAl7ZxrFnArI6XaWZmxeBP5JqZZYhD38wsQxz6ZmYZ4tA3M8sQh76ZWYY49M3MMsShb2aWIQ59M7MMceibmWWIQ9/MLEMc+mZmGeLQNzPLEIe+mVmGOPTNzDLEoW9mliEOfTOzDHHom5lliEPfzCxDHPpmZhlScOhLqpD0oqSH0vpASc9KapA0R9LnUvs+ab0hbR+Qd4wfp/bXJY0r+tmYmdkudeRK/3vA8rz164AbI+LLwEbgwtR+IbAxtd+Y+iHpSOAbwGBgPHCzpIrPVr6ZmXVE90I6SeoPnAFcC3xfkoCTgG+mLrOBq4BbgAlpGeAB4Nep/wTg3oj4GPizpAagFvhTUc7EzDJhwOUPF/2Yq2acUfRjdlaFXun/AvghsD2t9wXej4itab0RODgtHwy8A5C2b0r9W9pb2cfMzEqg3dCX9FVgXUQ8X4J6kDRVUp2kuqamplI8pZlZZhRypX8ccJakVcC95IZ1bgJ6S2oeHuoPrEnLa4BDANL2/YH1+e2t7NMiImZGxMiIGFlZWdnhEzIzs7a1G/oR8eOI6B8RA8i9EftYRHwLeBz4euo2GZiXluenddL2xyIiUvs30uyegcAgYGnRzsTMzNpV0Bu5bfgRcK+ka4AXgdtT++3AnemN2g3kXiiIiNck3QcsA7YCl0bEts/w/GZm1kEdCv2IWAIsSctvkZt9s3Ofj4BJbex/LbkZQGZmVgb+RK6ZWYY49M3MMsShb2aWIQ59M7MMceibmWWIQ9/MLEMc+mZmGeLQNzPLEIe+mVmGOPTNzDLEoW9mliEOfTOzDHHom5lliEPfzCxDHPpmZhni0DczyxCHvplZhjj0zcwyxKFvZpYhDn0zswxpN/Ql9ZS0VNJLkl6T9NPUPlDSs5IaJM2R9LnUvk9ab0jbB+Qd68ep/XVJ4/bYWZmZWasKudL/GDgpIoYB1cB4SaOB64AbI+LLwEbgwtT/QmBjar8x9UPSkcA3gMHAeOBmSRVFPBczM2tHu6EfOR+m1R7pK4CTgAdS+2xgYlqekNZJ28dKUmq/NyI+jog/Aw1AbTFOwszMClPQmL6kCkn1wDpgIfAm8H5EbE1dGoGD0/LBwDsAafsmoG9+eyv75D/XVEl1kuqampo6fEJmZta2gkI/IrZFRDXQn9zV+eF7qqCImBkRIyNiZGVl5Z56GjOzTOrQ7J2IeB94HDgG6C2pe9rUH1iTltcAhwCk7fsD6/PbW9nHzMxKoJDZO5WSeqflfwJOAZaTC/+vp26TgXlpeX5aJ21/LCIitX8jze4ZCAwClhbpPMzMrADd2+9CP2B2mmnTDbgvIh6StAy4V9I1wIvA7an/7cCdkhqADeRm7BARr0m6D1gGbAUujYhtxT0dMzPblXZDPyJeBoa30v4Wrcy+iYiPgEltHOta4NqOl2lmZsXgT+SamWWIQ9/MLEMc+mZmGeLQNzPLEIe+mVmGOPTNzDLEoW9mliEOfTOzDHHom5lliEPfzCxDHPpmZhni0DczyxCHvplZhjj0zcwypJD76Zt1SgMuf7jox1w144yiH9OsM/GVvplZhjj0zcwyxKFvZpYhDn0zswxx6JuZZUi7oS/pEEmPS1om6TVJ30vtB0haKGlleuyT2iXpl5IaJL0sqSbvWJNT/5WSJu+50zIzs9YUcqW/Ffg/EXEkMBq4VNKRwOXA4ogYBCxO6wCnAYPS11TgFsi9SADTgVFALTC9+YXCzMxKo93Qj4h3I+KFtPwBsBw4GJgAzE7dZgMT0/IE4I7IeQboLakfMA5YGBEbImIjsBAYX8yTMTOzXevQmL6kAcBw4FmgKiLeTZveA6rS8sHAO3m7Naa2ttp3fo6pkuok1TU1NXWkPDMza0fBoS+pF/A74H9HxN/yt0VEAFGMgiJiZkSMjIiRlZWVxTikmZklBYW+pB7kAv+uiHgwNa9Nwzakx3WpfQ1wSN7u/VNbW+1mZlYihczeEXA7sDwibsjbNB9onoEzGZiX135emsUzGtiUhoEeAU6V1Ce9gXtqajMzsxIp5IZrxwH/CrwiqT61/QSYAdwn6UJgNXBO2rYAOB1oALYA5wNExAZJPwOeS/2ujogNxTgJMzMrTLuhHxFPAmpj89hW+gdwaRvHmgXM6kiBZmZWPP5ErplZhjj0zcwyxKFvZpYhDn0zswxx6JuZZYhD38wsQxz6ZmYZ4tA3M8sQh76ZWYY49M3MMsShb2aWIQ59M7MMceibmWWIQ9/MLEMc+mZmGeLQNzPLEIe+mVmGOPTNzDLEoW9mliHthr6kWZLWSXo1r+0ASQslrUyPfVK7JP1SUoOklyXV5O0zOfVfKWnynjkdMzPblUKu9H8LjN+p7XJgcUQMAhandYDTgEHpaypwC+ReJIDpwCigFpje/EJhZmal027oR8QfgQ07NU8AZqfl2cDEvPY7IucZoLekfsA4YGFEbIiIjcBC/vGFxMzM9rDdHdOvioh30/J7QFVaPhh4J69fY2prq/0fSJoqqU5SXVNT026WZ2ZmrfnMb+RGRABRhFqajzczIkZGxMjKyspiHdbMzNj90F+bhm1Ij+tS+xrgkLx+/VNbW+1mZlZCuxv684HmGTiTgXl57eelWTyjgU1pGOgR4FRJfdIbuKemNjMzK6Hu7XWQdA9wInCgpEZys3BmAPdJuhBYDZyTui8ATgcagC3A+QARsUHSz4DnUr+rI2LnN4fNzGwPazf0I+LcNjaNbaVvAJe2cZxZwKwOVWdmZkXlT+SamWWIQ9/MLEMc+mZmGeLQNzPLEIe+mVmGOPTNzDLEoW9mliEOfTOzDHHom5lliEPfzCxDHPpmZhni0DczyxCHvplZhjj0zcwyxKFvZpYhDn0zswxx6JuZZYhD38wsQ9r9c4lmZtZxAy5/uOjHXDXjjM98DF/pm5llSMlDX9J4Sa9LapB0eamf38wsy0oa+pIqgP8LnAYcCZwr6chS1mBmlmWlvtKvBRoi4q2I+AS4F5hQ4hrMzDJLEVG6J5O+DoyPiIvS+r8CoyLisrw+U4GpafUw4PUil3Eg8NciH3NPcJ3F5TqLqyvU2RVqhD1T53+LiMrWNnS62TsRMROYuaeOL6kuIkbuqeMXi+ssLtdZXF2hzq5QI5S+zlIP76wBDslb75/azMysBEod+s8BgyQNlPQ54BvA/BLXYGaWWSUd3omIrZIuAx4BKoBZEfFaKWtgDw4dFZnrLC7XWVxdoc6uUCOUuM6SvpFrZmbl5U/kmplliEPfzCxDHPpmZhnS6ebp72mS7oiI88pdx65I+hdyn15+NSIeLXc9zSSNApZHxN8k/RNwOVADLAN+HhGbylpgIum7wNyIeKfctbQlb/baXyJikaRvAscCy4GZEfFpWQvMI+lLwNfITbfeBrwB3B0RfytrYbZb9uo3ciXtPB1UwFeAxwAi4qySF9UKSUsjojYtfxu4FJgLnAr8v4iYUc76mkl6DRiWZmHNBLYADwBjU/vXylpgImkTsBl4E7gHuD8imspb1Y4k3UXuouufgfeBXsCD5L6XiojJ5avu79IL6FeBPwKnAy+Sq/ds4JKIWFK24my37O2h/wK5q9DbgCAX+veQu8IiIv5Qvur+TtKLETE8LT8HnB4RTZL2BZ6JiKHlrTBH0vKIOCItvxARNXnb6iOiumzF5ZH0IjACOBn4H8BZwPPk/u0fjIgPylgeAJJejoijJHUn9wHFgyJimyQBL0XEUWUuEQBJrwDVqbZ/BhZExImSvgjMa/5/W26S9gd+DEwEvkDu530dMA+YERHvl624Akn6j4g4bU8/z94+pj+S3A/7NGBTuir5r4j4Q2cJ/KSbpD6S+pJ7IW4CiIjNwNbylraDVyWdn5ZfkjQSQNKhQKcZjgAiIrZHxKMRcSFwEHAzMB54q7ylteiWhnj2I3e1v39q3wfoUbaqWtc8DLwPud9IiIi36Vx13gdsBE6MiAMioi+53+o3pm2dgqSaNr5GANWlqGGvHtOPiO3AjZLuT49r6ZznvD+5FycBIalfRLwrqVdq6ywuAm6S9G/kbhD1J0nvAO+kbZ3FDt+zND4+H5ifrlY7g9uBFeQ+pDgNuF/SW8Bocnef7SxuA56T9CwwBrgOQFIlsKGche1kQERcl98QEe8B10m6oEw1teY54A+0/nPduxQF7NXDOzuTdAZwXET8pNy1FCIFVFVE/LncteST9HlgILkX0MaIWFvmknYg6dCIeKPcdbRH0kEAEfEXSb3JDUe9HRFLy1rYTiQNBo4gN7FgRbnraY2kR4FFwOzm/4+SqoApwCkRcXIZy2sh6VXg7IhY2cq2dyLikFZ2K24NWQp9M9s7SepDbjbZBHJj+gBryf2GNyMiNpartnzp9vKvRMQ/3DJe0sSI+P0er8Ghb2Z7M0nnR8Rvyl1He0pVp0PfzPZqkt6OiC+Wu472lKrOzvimpplZh0h6ua1NQFUpa9mVzlCnQ9/M9gZVwDhyUzTzCXi69OW0qex1OvTNbG/wENArIup33iBpScmraVvZ6/SYvplZhuztn8g1M7M8Dn0zswxx6JsVkaTeki7JWz9R0kPlrMksn0PfrLh6A5e018msXBz6llmSBkhaIem3kt6QdJekkyU9JWmlpFpJB0j6vaSXJT0j6ai071WSZklaIumtdN95gBnAf5dUL+nfU1svSQ+k57or3T7ZrCw8ZdOy7svAJOACcndA/CbwL+Tuwf8TcncQfTEiJko6CbiDv98C93Byt+/dD3hd0i3k7v8ypPlvC0g6ERgODAb+AjwFHAc8ucfPzKwVvtK3rPtzRLySbsP9GrA4cvOYXwEGkHsBuBMgIh4D+qa7jAI8HBEfR8Rfyf3BjrY+Ubk0IhrTc9Sn45qVhUPfsu7jvOXteevbaf834fx9t+2if6H9zPY4h77Zrj0BfAtahmr+2s4fBP+A3HCPWafkKw6zXbsKmJVulLUF2OUfLI+I9emN4FeB/wAe3vMlmhXOt2EwM8sQD++YmWWIQ9/MLEMc+mZmGeLQNzPLEIe+mVmGOPTNzDLEoW9mliEOfTOzDPn/QjjRjYWDxSEAAAAASUVORK5CYII=\n",
       "datasetInfos": [],
       "metadata": {},
       "removedWidgets": [],
       "type": "image"
      }
     },
     "output_type": "display_data"
    }
   ],
   "source": [
    "df5.plot.bar(x=\"month\", y=\"measurement_count\")"
   ]
  },
  {
   "cell_type": "markdown",
   "metadata": {
    "application/vnd.databricks.v1+cell": {
     "cellMetadata": {},
     "inputWidgets": {},
     "nuid": "89c1799a-ccd2-4811-82bc-7b3af2920875",
     "showTitle": false,
     "title": ""
    }
   },
   "source": [
    "As we can see, most of the data were taken between July and November. This is not great because this will result in skewed forecasting. In order to avoid this, we could either forecast sea surface temperatures for only these months, or we could take a larger scope in order to have better data distribution."
   ]
  },
  {
   "cell_type": "markdown",
   "metadata": {
    "application/vnd.databricks.v1+cell": {
     "cellMetadata": {},
     "inputWidgets": {},
     "nuid": "6843a32b-e46b-4504-b432-99d55437f7ad",
     "showTitle": false,
     "title": ""
    }
   },
   "source": [
    "## Rescoping\n",
    "\n",
    "In order to improve the validity of the forecasting, let's increase the scope by looking at a better feature. Instead of looking at measurements taken only within the Hudson's Bay, let's have a look at the global average daily sea surface temperature. This data was already saved in the SQL server as the 'noaa_icoads_agg' table. We will need to have a second look at the validity of this data."
   ]
  },
  {
   "cell_type": "markdown",
   "metadata": {
    "application/vnd.databricks.v1+cell": {
     "cellMetadata": {},
     "inputWidgets": {},
     "nuid": "fc0e8d0b-7f8b-4544-8420-b97f5d6367a8",
     "showTitle": false,
     "title": ""
    }
   },
   "source": [
    "## Validity Analysis (Rescoped)"
   ]
  },
  {
   "cell_type": "markdown",
   "metadata": {
    "application/vnd.databricks.v1+cell": {
     "cellMetadata": {},
     "inputWidgets": {},
     "nuid": "bd4c9c4e-4c82-4412-9fbf-f282603aa512",
     "showTitle": false,
     "title": ""
    }
   },
   "source": [
    "### Null values"
   ]
  },
  {
   "cell_type": "code",
   "execution_count": 0,
   "metadata": {
    "application/vnd.databricks.v1+cell": {
     "cellMetadata": {
      "byteLimit": 2048000,
      "rowLimit": 10000
     },
     "inputWidgets": {},
     "nuid": "7e3f81c5-c72c-49f9-8a69-a09e96b6b736",
     "showTitle": false,
     "title": ""
    }
   },
   "outputs": [
    {
     "output_type": "stream",
     "name": "stdout",
     "output_type": "stream",
     "text": [
      "+----+--------------+\n|date|avg_global_sst|\n+----+--------------+\n|   1|             0|\n+----+--------------+\n\n"
     ]
    }
   ],
   "source": [
    "from pyspark.sql.functions import col, isnan, when, count, make_date\n",
    "ndf = spark.sql('SELECT * FROM noaa_icoads_agg')\n",
    "ndf.select([count(when(col(c).contains('None') | \\\n",
    "                            col(c).contains('NULL') | \\\n",
    "                            (col(c) == '' ) | \\\n",
    "                            col(c).isNull(), c \\\n",
    "                           )).alias(c)\n",
    "                    for c in ndf.columns]) \\\n",
    "        .show()"
   ]
  },
  {
   "cell_type": "markdown",
   "metadata": {
    "application/vnd.databricks.v1+cell": {
     "cellMetadata": {},
     "inputWidgets": {},
     "nuid": "061cb75a-237b-4edf-8e2a-81d899b6aba6",
     "showTitle": false,
     "title": ""
    }
   },
   "source": [
    "### Data quantity"
   ]
  },
  {
   "cell_type": "code",
   "execution_count": 0,
   "metadata": {
    "application/vnd.databricks.v1+cell": {
     "cellMetadata": {
      "byteLimit": 2048000,
      "rowLimit": 10000
     },
     "inputWidgets": {},
     "nuid": "c081cf91-bed7-429d-b910-2f9c13c92ac2",
     "showTitle": false,
     "title": ""
    }
   },
   "outputs": [
    {
     "output_type": "stream",
     "name": "stdout",
     "output_type": "stream",
     "text": [
      "+--------+\n|count(1)|\n+--------+\n|   70227|\n+--------+\n\n"
     ]
    }
   ],
   "source": [
    "spark.sql('SELECT COUNT(*) FROM noaa_icoads_agg').show()"
   ]
  },
  {
   "cell_type": "markdown",
   "metadata": {
    "application/vnd.databricks.v1+cell": {
     "cellMetadata": {},
     "inputWidgets": {},
     "nuid": "7a98f9d2-9f61-4e92-81e8-e0641ea36e79",
     "showTitle": false,
     "title": ""
    }
   },
   "source": [
    "### Time distribution"
   ]
  },
  {
   "cell_type": "code",
   "execution_count": 0,
   "metadata": {
    "application/vnd.databricks.v1+cell": {
     "cellMetadata": {
      "byteLimit": 2048000,
      "rowLimit": 10000
     },
     "inputWidgets": {},
     "nuid": "34df5da4-cf39-4b17-8cff-ca9b8d029157",
     "showTitle": false,
     "title": ""
    }
   },
   "outputs": [
    {
     "output_type": "stream",
     "name": "stdout",
     "output_type": "stream",
     "text": [
      "Out[3]: <AxesSubplot:xlabel='year'>"
     ]
    },
    {
     "output_type": "display_data",
     "data": {
      "image/png": "[encoded data removed]"
     },
     "metadata": {
      "application/vnd.databricks.v1+output": {
       "addedWidgets": {},
       "arguments": {},
       "data": "data:image/png;base64,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\n",
       "datasetInfos": [],
       "metadata": {},
       "removedWidgets": [],
       "type": "image"
      }
     },
     "output_type": "display_data"
    }
   ],
   "source": [
    "spark.sql('SELECT YEAR(date) as year, COUNT(avg_global_sst) as measurement_count FROM noaa_icoads_agg GROUP BY year ORDER BY year').toPandas().plot.line(x='year', y='measurement_count')"
   ]
  },
  {
   "cell_type": "markdown",
   "metadata": {
    "application/vnd.databricks.v1+cell": {
     "cellMetadata": {},
     "inputWidgets": {},
     "nuid": "17ce01f3-d36f-4ffb-bdb1-2532527c318d",
     "showTitle": false,
     "title": ""
    }
   },
   "source": [
    "The data in this aggregated global average SST was already grouped by day. Therefore, 365 is essentially the largest count a year can have (every day has a measurement). Therefore, we have data for every day for the past 150 years."
   ]
  },
  {
   "cell_type": "code",
   "execution_count": 0,
   "metadata": {
    "application/vnd.databricks.v1+cell": {
     "cellMetadata": {
      "byteLimit": 2048000,
      "rowLimit": 10000
     },
     "inputWidgets": {},
     "nuid": "080b88c9-ebb2-41ab-8893-f56152de85b2",
     "showTitle": false,
     "title": ""
    }
   },
   "outputs": [
    {
     "output_type": "stream",
     "name": "stdout",
     "output_type": "stream",
     "text": [
      "Out[4]: <AxesSubplot:xlabel='month'>"
     ]
    },
    {
     "output_type": "display_data",
     "data": {
      "image/png": "[encoded data removed]"
     },
     "metadata": {
      "application/vnd.databricks.v1+output": {
       "addedWidgets": {},
       "arguments": {},
       "data": "data:image/png;base64,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\n",
       "datasetInfos": [],
       "metadata": {},
       "removedWidgets": [],
       "type": "image"
      }
     },
     "output_type": "display_data"
    }
   ],
   "source": [
    "spark.sql('SELECT MONTH(date) as month, COUNT(avg_global_sst) as measurement_count FROM noaa_icoads_agg GROUP BY month ORDER BY month').toPandas().plot.bar(x='month', y='measurement_count')"
   ]
  },
  {
   "cell_type": "markdown",
   "metadata": {
    "application/vnd.databricks.v1+cell": {
     "cellMetadata": {},
     "inputWidgets": {},
     "nuid": "ed385d81-d6b2-43f6-b0ad-45478494b0a6",
     "showTitle": false,
     "title": ""
    }
   },
   "source": [
    "As we can see, we have approximately equal data for each month of the year. At this point, we know the data is well behaved and we are ready to proceed to the machine learning section."
   ]
  },
  {
   "cell_type": "markdown",
   "metadata": {
    "application/vnd.databricks.v1+cell": {
     "cellMetadata": {},
     "inputWidgets": {},
     "nuid": "49b3cb92-0514-431a-a446-e6b70568c35c",
     "showTitle": false,
     "title": ""
    }
   },
   "source": [
    "# Machine learning\n",
    "\n",
    "Now that we've checked that this data is well-behaved, we will use features of Databricks to easily forecast global average temperature. Once our data is saved as a table, we can use Databricks AutoML experiments to create a forecasting model.\n",
    "\n",
    "Databricks AutoML is a feature that automates the process of building, training, and deploying machine learning models, including forecasting models. It includes automated data preparation, feature engineering, model selection, hyperparameter tuning, and model evaluation. Users can specify their data sources and desired performance metrics through a simple web interface, and Databricks automatically performs the necessary steps to generate an optimal forecasting model. Once the model is trained, it can be easily deployed into production using REST APIs, batch inference, or streaming inference.\n",
    "\n",
    "Specifically, for forecasting, AutoML uses Facebook's \"Prophet\". Prophet is a time series forecasting library developed by Facebook that uses a decomposable model with trend, seasonality, and holiday components. For this example, we do not use the holiday component but the seasonality is quite important. This model includes advanced features like changepoint detection and Bayesian uncertainty estimation, is highly customizable, and integrates easily with Python and R. It makes it easy for analysts and data scientists to produce high-quality forecasts with minimal effort.\n",
    "\n",
    "By using AutoML, several models were built and the one with highest accuracy was used to forecast the global average SST."
   ]
  }
 ],
 "metadata": {
  "application/vnd.databricks.v1+notebook": {
   "dashboards": [],
   "language": "python",
   "notebookMetadata": {
    "mostRecentlyExecutedCommandWithImplicitDF": {
     "commandId": 250252501046185,
     "dataframes": [
      "_sqldf"
     ]
    },
    "pythonIndentUnit": 4
   },
   "notebookName": "NOAA-ICOADS Analysis",
   "notebookOrigID": 2283697138350570,
   "widgets": {}
  }
 },
 "nbformat": 4,
 "nbformat_minor": 0
}
